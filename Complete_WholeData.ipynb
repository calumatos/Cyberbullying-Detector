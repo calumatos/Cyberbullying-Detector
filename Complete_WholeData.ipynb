{
 "cells": [
  {
   "cell_type": "markdown",
   "id": "3b47f014",
   "metadata": {},
   "source": [
    "We have 8 csv files:\n",
    "\n",
    "- Bullying_1: aggression_parsed_dataset.csv       (115864 rows × 5 columns)\n",
    "- Bullying_2: attack_parsed_dataset.csv           (115864 rows × 5 columns) \n",
    "- Bullying_3: twitter_parsed_dataset.csv          (16851 rows × 5 columns) \n",
    "- Bullying_4: twitter_racism_parsed_dataset.csv   (13471 rows × 5 columns) \n",
    "- Bullying_5: twitter_sexism_parsed_dataset.csv   (14881 rows × 5 columns) \n",
    "- Bullying_6: youtube_parsed_dataset.csv          (3464 rows × 10 columns) \n",
    "- Bullying_7: toxicity_parsed_dataset.csv         (159686 rows × 5 columns) \n",
    "- Bullying_8: kaggle_parsed_dataset.csv           (8799 rows × 4 columns) \n",
    "\n",
    "\n",
    "https://www.kaggle.com/datasets/saurabhshahane/cyberbullying-dataset?select=aggression_parsed_dataset.csv"
   ]
  },
  {
   "cell_type": "code",
   "execution_count": 16,
   "id": "d029048d",
   "metadata": {},
   "outputs": [],
   "source": [
    "import pandas as pd\n",
    "import numpy as np\n",
    "import re\n",
    "import string\n",
    "import matplotlib.pyplot as plt\n",
    "import seaborn as sns\n",
    "import nltk\n",
    "import pickle\n",
    "import joblib\n",
    "\n",
    "from nltk.tokenize import word_tokenize\n",
    "from nltk.corpus import stopwords\n",
    "from nltk.stem import PorterStemmer\n",
    "from gensim.models import Word2Vec\n",
    "from imblearn.over_sampling import SMOTE\n",
    "\n",
    "from sklearn.feature_extraction.text import CountVectorizer, TfidfVectorizer\n",
    "from sklearn.model_selection import train_test_split\n",
    "from sklearn.linear_model import LogisticRegression\n",
    "from sklearn.preprocessing import PowerTransformer\n",
    "from sklearn.metrics import accuracy_score, precision_score, recall_score, confusion_matrix\n",
    "from sklearn.ensemble import RandomForestClassifier\n",
    "from sklearn.naive_bayes import MultinomialNB\n",
    "from sklearn.datasets import make_classification\n",
    "from sklearn.preprocessing import LabelBinarizer\n",
    "from sklearn.metrics import multilabel_confusion_matrix, hamming_loss, classification_report\n",
    "from sklearn.model_selection import cross_val_predict\n",
    "from sklearn.metrics import accuracy_score, precision_score, recall_score, f1_score\n",
    "\n",
    "\n",
    "import tensorflow as tf\n",
    "from tensorflow.keras.models import Sequential\n",
    "from tensorflow.keras.layers import Embedding, Flatten, Dense, LSTM\n",
    "from tensorflow.keras.preprocessing.text import Tokenizer\n",
    "from tensorflow.keras.preprocessing.sequence import pad_sequences\n",
    "from tensorflow.keras.utils import to_categorical \n",
    "from tensorflow.keras.models import load_model\n",
    "\n",
    "import warnings\n",
    "from sklearn.exceptions import DataConversionWarning\n",
    "warnings.filterwarnings(\"ignore\", category=DataConversionWarning)\n"
   ]
  },
  {
   "cell_type": "code",
   "execution_count": 2,
   "id": "bd9af3de",
   "metadata": {},
   "outputs": [],
   "source": [
    "# Loading the data\n",
    "B = pd.read_csv(\"n_df.csv\", index_col=0)"
   ]
  },
  {
   "cell_type": "code",
   "execution_count": 3,
   "id": "b63b558d",
   "metadata": {},
   "outputs": [
    {
     "data": {
      "text/html": [
       "<div>\n",
       "<style scoped>\n",
       "    .dataframe tbody tr th:only-of-type {\n",
       "        vertical-align: middle;\n",
       "    }\n",
       "\n",
       "    .dataframe tbody tr th {\n",
       "        vertical-align: top;\n",
       "    }\n",
       "\n",
       "    .dataframe thead th {\n",
       "        text-align: right;\n",
       "    }\n",
       "</style>\n",
       "<table border=\"1\" class=\"dataframe\">\n",
       "  <thead>\n",
       "    <tr style=\"text-align: right;\">\n",
       "      <th></th>\n",
       "      <th>ed_label_0</th>\n",
       "      <th>ed_label_1</th>\n",
       "      <th>oh_label</th>\n",
       "      <th>Processed_Text</th>\n",
       "    </tr>\n",
       "    <tr>\n",
       "      <th>index</th>\n",
       "      <th></th>\n",
       "      <th></th>\n",
       "      <th></th>\n",
       "      <th></th>\n",
       "    </tr>\n",
       "  </thead>\n",
       "  <tbody>\n",
       "    <tr>\n",
       "      <th>0</th>\n",
       "      <td>0.9</td>\n",
       "      <td>0.1</td>\n",
       "      <td>0</td>\n",
       "      <td>make analogy mathematical term envisioning dis...</td>\n",
       "    </tr>\n",
       "    <tr>\n",
       "      <th>1</th>\n",
       "      <td>1.0</td>\n",
       "      <td>0.0</td>\n",
       "      <td>0</td>\n",
       "      <td>clarification zundark right checked wikipedia ...</td>\n",
       "    </tr>\n",
       "    <tr>\n",
       "      <th>2</th>\n",
       "      <td>1.0</td>\n",
       "      <td>0.0</td>\n",
       "      <td>0</td>\n",
       "      <td>elected electoral</td>\n",
       "    </tr>\n",
       "    <tr>\n",
       "      <th>3</th>\n",
       "      <td>1.0</td>\n",
       "      <td>0.0</td>\n",
       "      <td>0</td>\n",
       "      <td>entry devotchka coworker korea tell difference...</td>\n",
       "    </tr>\n",
       "    <tr>\n",
       "      <th>4</th>\n",
       "      <td>0.8</td>\n",
       "      <td>0.2</td>\n",
       "      <td>0</td>\n",
       "      <td>please relate ozone hole increase cancer provi...</td>\n",
       "    </tr>\n",
       "    <tr>\n",
       "      <th>...</th>\n",
       "      <td>...</td>\n",
       "      <td>...</td>\n",
       "      <td>...</td>\n",
       "      <td>...</td>\n",
       "    </tr>\n",
       "    <tr>\n",
       "      <th>159681</th>\n",
       "      <td>1.0</td>\n",
       "      <td>0.0</td>\n",
       "      <td>0</td>\n",
       "      <td>source exactly exude sense impartiality newswe...</td>\n",
       "    </tr>\n",
       "    <tr>\n",
       "      <th>159682</th>\n",
       "      <td>1.0</td>\n",
       "      <td>0.0</td>\n",
       "      <td>0</td>\n",
       "      <td>institute historical review peer reviewed jour...</td>\n",
       "    </tr>\n",
       "    <tr>\n",
       "      <th>159683</th>\n",
       "      <td>1.0</td>\n",
       "      <td>0.0</td>\n",
       "      <td>0</td>\n",
       "      <td>trying describe article serious step whereas s...</td>\n",
       "    </tr>\n",
       "    <tr>\n",
       "      <th>159684</th>\n",
       "      <td>0.6</td>\n",
       "      <td>0.4</td>\n",
       "      <td>0</td>\n",
       "      <td>warning clearly protectionist regime going wit...</td>\n",
       "    </tr>\n",
       "    <tr>\n",
       "      <th>159685</th>\n",
       "      <td>1.0</td>\n",
       "      <td>0.0</td>\n",
       "      <td>0</td>\n",
       "      <td>alternate option perhaps enough newsworthy inf...</td>\n",
       "    </tr>\n",
       "  </tbody>\n",
       "</table>\n",
       "<p>159686 rows × 4 columns</p>\n",
       "</div>"
      ],
      "text/plain": [
       "        ed_label_0  ed_label_1  oh_label  \\\n",
       "index                                      \n",
       "0              0.9         0.1         0   \n",
       "1              1.0         0.0         0   \n",
       "2              1.0         0.0         0   \n",
       "3              1.0         0.0         0   \n",
       "4              0.8         0.2         0   \n",
       "...            ...         ...       ...   \n",
       "159681         1.0         0.0         0   \n",
       "159682         1.0         0.0         0   \n",
       "159683         1.0         0.0         0   \n",
       "159684         0.6         0.4         0   \n",
       "159685         1.0         0.0         0   \n",
       "\n",
       "                                           Processed_Text  \n",
       "index                                                      \n",
       "0       make analogy mathematical term envisioning dis...  \n",
       "1       clarification zundark right checked wikipedia ...  \n",
       "2                                       elected electoral  \n",
       "3       entry devotchka coworker korea tell difference...  \n",
       "4       please relate ozone hole increase cancer provi...  \n",
       "...                                                   ...  \n",
       "159681  source exactly exude sense impartiality newswe...  \n",
       "159682  institute historical review peer reviewed jour...  \n",
       "159683  trying describe article serious step whereas s...  \n",
       "159684  warning clearly protectionist regime going wit...  \n",
       "159685  alternate option perhaps enough newsworthy inf...  \n",
       "\n",
       "[159686 rows x 4 columns]"
      ]
     },
     "execution_count": 3,
     "metadata": {},
     "output_type": "execute_result"
    }
   ],
   "source": [
    "B"
   ]
  },
  {
   "cell_type": "code",
   "execution_count": 4,
   "id": "09c1a576",
   "metadata": {},
   "outputs": [
    {
     "data": {
      "text/html": [
       "<div>\n",
       "<style scoped>\n",
       "    .dataframe tbody tr th:only-of-type {\n",
       "        vertical-align: middle;\n",
       "    }\n",
       "\n",
       "    .dataframe tbody tr th {\n",
       "        vertical-align: top;\n",
       "    }\n",
       "\n",
       "    .dataframe thead th {\n",
       "        text-align: right;\n",
       "    }\n",
       "</style>\n",
       "<table border=\"1\" class=\"dataframe\">\n",
       "  <thead>\n",
       "    <tr style=\"text-align: right;\">\n",
       "      <th></th>\n",
       "      <th>ed_label_0</th>\n",
       "      <th>ed_label_1</th>\n",
       "      <th>oh_label</th>\n",
       "      <th>Processed_Text</th>\n",
       "    </tr>\n",
       "    <tr>\n",
       "      <th>index</th>\n",
       "      <th></th>\n",
       "      <th></th>\n",
       "      <th></th>\n",
       "      <th></th>\n",
       "    </tr>\n",
       "  </thead>\n",
       "  <tbody>\n",
       "    <tr>\n",
       "      <th>4350</th>\n",
       "      <td>1.0</td>\n",
       "      <td>0.0</td>\n",
       "      <td>0</td>\n",
       "      <td>please insert photograph lead star miniseries ...</td>\n",
       "    </tr>\n",
       "  </tbody>\n",
       "</table>\n",
       "</div>"
      ],
      "text/plain": [
       "       ed_label_0  ed_label_1  oh_label  \\\n",
       "index                                     \n",
       "4350          1.0         0.0         0   \n",
       "\n",
       "                                          Processed_Text  \n",
       "index                                                     \n",
       "4350   please insert photograph lead star miniseries ...  "
      ]
     },
     "execution_count": 4,
     "metadata": {},
     "output_type": "execute_result"
    }
   ],
   "source": [
    "# sample of a 'not bullying text (0)'\n",
    "B.loc[B[\"oh_label\"]==0].sample()"
   ]
  },
  {
   "cell_type": "code",
   "execution_count": 5,
   "id": "0622ff79",
   "metadata": {},
   "outputs": [
    {
     "data": {
      "text/html": [
       "<div>\n",
       "<style scoped>\n",
       "    .dataframe tbody tr th:only-of-type {\n",
       "        vertical-align: middle;\n",
       "    }\n",
       "\n",
       "    .dataframe tbody tr th {\n",
       "        vertical-align: top;\n",
       "    }\n",
       "\n",
       "    .dataframe thead th {\n",
       "        text-align: right;\n",
       "    }\n",
       "</style>\n",
       "<table border=\"1\" class=\"dataframe\">\n",
       "  <thead>\n",
       "    <tr style=\"text-align: right;\">\n",
       "      <th></th>\n",
       "      <th>ed_label_0</th>\n",
       "      <th>ed_label_1</th>\n",
       "      <th>oh_label</th>\n",
       "      <th>Processed_Text</th>\n",
       "    </tr>\n",
       "    <tr>\n",
       "      <th>index</th>\n",
       "      <th></th>\n",
       "      <th></th>\n",
       "      <th></th>\n",
       "      <th></th>\n",
       "    </tr>\n",
       "  </thead>\n",
       "  <tbody>\n",
       "    <tr>\n",
       "      <th>124209</th>\n",
       "      <td>0.1</td>\n",
       "      <td>0.9</td>\n",
       "      <td>1</td>\n",
       "      <td>fuck samuel johnson idea ridiculous pathetic s...</td>\n",
       "    </tr>\n",
       "  </tbody>\n",
       "</table>\n",
       "</div>"
      ],
      "text/plain": [
       "        ed_label_0  ed_label_1  oh_label  \\\n",
       "index                                      \n",
       "124209         0.1         0.9         1   \n",
       "\n",
       "                                           Processed_Text  \n",
       "index                                                      \n",
       "124209  fuck samuel johnson idea ridiculous pathetic s...  "
      ]
     },
     "execution_count": 5,
     "metadata": {},
     "output_type": "execute_result"
    }
   ],
   "source": [
    "# sample of a 'bullying text (1)'\n",
    "B.loc[B[\"oh_label\"]==1].sample()"
   ]
  },
  {
   "cell_type": "code",
   "execution_count": 6,
   "id": "ed5e9a78",
   "metadata": {},
   "outputs": [
    {
     "data": {
      "text/plain": [
       "oh_label\n",
       "0    144324\n",
       "1     15362\n",
       "Name: count, dtype: int64"
      ]
     },
     "execution_count": 6,
     "metadata": {},
     "output_type": "execute_result"
    }
   ],
   "source": [
    "# distribution of bullying vs. no-bullying content\n",
    "B['oh_label'].value_counts()"
   ]
  },
  {
   "cell_type": "markdown",
   "id": "f98202f8",
   "metadata": {},
   "source": [
    "### Text Preprocessing"
   ]
  },
  {
   "cell_type": "code",
   "execution_count": null,
   "id": "49c11429",
   "metadata": {},
   "outputs": [],
   "source": [
    "### Text Preprocessing:\n",
    "# Cleaning and preprocessing the text data. This involves tasks like removing stop words, handling emojis, \n",
    "# and converting text to lowercase.\n",
    "# Tokenizing the text to convert it into a format suitable for machine learning algorithms."
   ]
  },
  {
   "cell_type": "code",
   "execution_count": null,
   "id": "01364337",
   "metadata": {},
   "outputs": [],
   "source": [
    "# checking null values\n",
    "B.isna().sum()"
   ]
  },
  {
   "cell_type": "code",
   "execution_count": null,
   "id": "79b8a0d6",
   "metadata": {},
   "outputs": [],
   "source": [
    "# Preprocessing the text. Cenverting to lower_case, removing any special characters/symbols and removing extra spaces.\n",
    "def clean_text(text):\n",
    "    if not isinstance(text, str):\n",
    "        # If the input is not a string, return an empty string or handle it as needed\n",
    "        return ''\n",
    "\n",
    "    text = text.lower()  # Convert to lowercase\n",
    "    text = re.sub(r'\\W', ' ', text)  # Remove special characters and symbols\n",
    "    text = re.sub(r'\\s+', ' ', text, flags=re.MULTILINE)  # Remove extra spaces\n",
    "    words = [word for word in text.split() if word.isalnum() and word.isalpha()]  # Split the text into words and keep only alphanumeric words\n",
    "    cleaned_text = ' '.join(words)  # Join the words with a space\n",
    "    return cleaned_text"
   ]
  },
  {
   "cell_type": "code",
   "execution_count": null,
   "id": "efa9b21d",
   "metadata": {},
   "outputs": [],
   "source": [
    "# Apply the clean_text function to the \"Text\" column\n",
    "B['Cleaned_Text'] = B['Processed_Text'].apply(clean_text)\n",
    "B[['Cleaned_Text']]"
   ]
  },
  {
   "cell_type": "code",
   "execution_count": null,
   "id": "37ee5457",
   "metadata": {},
   "outputs": [],
   "source": [
    "#nltk.download('punkt')\n",
    "#nltk.download('stopwords')\n",
    "#nltk.download('wordnet')\n",
    "#nltk.data.path.append('/root/nltk_data/corpora/')"
   ]
  },
  {
   "cell_type": "code",
   "execution_count": null,
   "id": "e9181031",
   "metadata": {},
   "outputs": [],
   "source": [
    "# Tokenizing and removing stopwords\n",
    "\n",
    "def tokenizing_and_stopwords(text):\n",
    "    tokens = word_tokenize(text)\n",
    "    stop_words = set(stopwords.words('english'))\n",
    "    filtered_tokens = [word for word in tokens if word.lower() not in stop_words]\n",
    "    text = \" \".join(filtered_tokens)\n",
    "    return text"
   ]
  },
  {
   "cell_type": "code",
   "execution_count": null,
   "id": "1afc2579",
   "metadata": {},
   "outputs": [],
   "source": [
    "# Apply the tokenizing_and_stopwords function to the \"Cleaned_Text\" column\n",
    "B['ctns_Text'] = B['Cleaned_Text'].apply(tokenizing_and_stopwords)  \n",
    "B[['ctns_Text']] #ctns_Text = cleaned, tokenized, no stopwords"
   ]
  },
  {
   "cell_type": "code",
   "execution_count": null,
   "id": "1032b8c9",
   "metadata": {},
   "outputs": [],
   "source": [
    "B['ctns_Text'][94]"
   ]
  },
  {
   "cell_type": "code",
   "execution_count": null,
   "id": "0100d81b",
   "metadata": {},
   "outputs": [],
   "source": [
    "# lemmatization aims to reduce words to their base or root form.\n",
    "\n",
    "def lemmatization_and_stopwords(text):\n",
    "    if not text:\n",
    "        return \"\"\n",
    "    tokens = word_tokenize(text)\n",
    "    clean_text = []\n",
    "    lemmatizer = nltk.WordNetLemmatizer()\n",
    "    for token in tokens:\n",
    "        if token.lower() not in stopwords.words('english') and len(token) > 3:\n",
    "            token = lemmatizer.lemmatize(token)\n",
    "            clean_text.append(token)\n",
    "    result_text = \" \".join(clean_text)\n",
    "    return result_text"
   ]
  },
  {
   "cell_type": "code",
   "execution_count": null,
   "id": "201c6684",
   "metadata": {},
   "outputs": [],
   "source": [
    "# Apply lemmatization function to the \"ctns_Text\" column\n",
    "B['lemm_text'] = B['ctns_Text'].apply(lemmatization_and_stopwords)\n",
    "B[['lemm_text']]"
   ]
  },
  {
   "cell_type": "code",
   "execution_count": null,
   "id": "3ddf2d81",
   "metadata": {},
   "outputs": [],
   "source": [
    "B['lemm_text'][57]"
   ]
  },
  {
   "cell_type": "code",
   "execution_count": null,
   "id": "d6ce4180",
   "metadata": {},
   "outputs": [],
   "source": [
    "# To show all the 'processed text' columns\n",
    "B"
   ]
  },
  {
   "cell_type": "code",
   "execution_count": null,
   "id": "62e38146",
   "metadata": {},
   "outputs": [],
   "source": [
    "B['text_len'] = B['lemm_text'].apply(lambda text: len(text.split()))"
   ]
  },
  {
   "cell_type": "code",
   "execution_count": null,
   "id": "8504f7a8",
   "metadata": {},
   "outputs": [],
   "source": [
    "plt.figure(figsize=(10,5))\n",
    "ax = sns.countplot(x='text_len', data=B[B['text_len']<10], palette='mako')\n",
    "plt.title('Coments with less than 10 words', fontsize=12)\n",
    "plt.yticks([])\n",
    "ax.bar_label(ax.containers[0])\n",
    "plt.ylabel('count')\n",
    "plt.xlabel('')\n",
    "plt.show()"
   ]
  },
  {
   "cell_type": "code",
   "execution_count": null,
   "id": "8ceb66a6",
   "metadata": {},
   "outputs": [],
   "source": [
    "plt.figure(figsize=(16,5))\n",
    "ax = sns.countplot(x='text_len', data=B[(B['text_len']<=100) & (B['text_len']>50)], palette='mako')\n",
    "plt.title('Coments with high number of words (50-100)', fontsize=12)\n",
    "plt.yticks([])\n",
    "ax.bar_label(ax.containers[0])\n",
    "plt.ylabel('count')\n",
    "plt.xlabel('')\n",
    "plt.show()"
   ]
  },
  {
   "cell_type": "code",
   "execution_count": null,
   "id": "8d8c50c4",
   "metadata": {
    "scrolled": false
   },
   "outputs": [],
   "source": [
    "B.sort_values(by=[\"text_len\"], ascending=False)"
   ]
  },
  {
   "cell_type": "code",
   "execution_count": null,
   "id": "3a48ecab",
   "metadata": {},
   "outputs": [],
   "source": [
    "B['text_len'].sum()"
   ]
  },
  {
   "cell_type": "code",
   "execution_count": null,
   "id": "061c9d0a",
   "metadata": {},
   "outputs": [],
   "source": [
    "# top 10 words \n",
    "vectorizer = CountVectorizer()\n",
    "word_matrix = vectorizer.fit_transform(B['Processed_Text'])\n",
    "words = vectorizer.get_feature_names_out()\n",
    "word_frequencies = word_matrix.sum(axis=0)\n",
    "\n",
    "word_freq_df = pd.DataFrame({'word': words, 'frequency': word_frequencies.tolist()[0]})\n",
    "word_freq_df = word_freq_df.sort_values(by='frequency', ascending=False)\n",
    "\n",
    "top_words_count = 50  \n",
    "top_words = word_freq_df.head(top_words_count)\n",
    "\n",
    "# Plot the top words\n",
    "plt.figure(figsize=(10, 6))\n",
    "plt.bar(top_words['word'], top_words['frequency'])\n",
    "plt.xlabel('Words')\n",
    "plt.ylabel('Frequency')\n",
    "plt.title(f'Top {top_words_count} Words in lemm_text')\n",
    "plt.xticks(rotation=90)\n",
    "plt.show()"
   ]
  },
  {
   "cell_type": "code",
   "execution_count": null,
   "id": "cd3aa2cf",
   "metadata": {},
   "outputs": [],
   "source": [
    "B['text_len'].sum()"
   ]
  },
  {
   "cell_type": "code",
   "execution_count": null,
   "id": "2f2b27cb",
   "metadata": {},
   "outputs": [],
   "source": []
  },
  {
   "cell_type": "code",
   "execution_count": null,
   "id": "1e53baa6",
   "metadata": {},
   "outputs": [],
   "source": []
  },
  {
   "cell_type": "code",
   "execution_count": null,
   "id": "ee8ee376",
   "metadata": {},
   "outputs": [],
   "source": []
  },
  {
   "cell_type": "markdown",
   "id": "33537dbc",
   "metadata": {},
   "source": [
    "### Splitting the Dataset - X, y"
   ]
  },
  {
   "cell_type": "code",
   "execution_count": 7,
   "id": "66f8f76f",
   "metadata": {},
   "outputs": [
    {
     "name": "stdout",
     "output_type": "stream",
     "text": [
      "Training set length: 127748 127748\n",
      "Testing set length: 31938 31938\n"
     ]
    }
   ],
   "source": [
    "X = B['Processed_Text']\n",
    "y = B[['oh_label']] \n",
    "\n",
    "X_train, X_test, y_train, y_test = train_test_split(X, y, test_size=0.2, random_state=42)\n",
    "\n",
    "print(\"Training set length:\", len(X_train), len(y_train))\n",
    "print(\"Testing set length:\", len(X_test), len(y_test))"
   ]
  },
  {
   "cell_type": "markdown",
   "id": "04e3b475",
   "metadata": {},
   "source": [
    "### Feature Extraction"
   ]
  },
  {
   "cell_type": "code",
   "execution_count": 8,
   "id": "4750676d",
   "metadata": {},
   "outputs": [],
   "source": [
    "### Feature Extraction: Extracting relevant features from the text data. \n",
    "# Using word embeddingsb (Word2Vec, GloVe) to capture semantic relationships between words"
   ]
  },
  {
   "cell_type": "code",
   "execution_count": 9,
   "id": "a445e04f",
   "metadata": {},
   "outputs": [],
   "source": [
    "B['Processed_Text'] = B['Processed_Text'].apply(lambda text: [] if pd.isna(text) else text)\n",
    "\n",
    "sentences = B['Processed_Text']\n",
    "model = Word2Vec(sentences, vector_size=1000, window=5, min_count=1, workers=4)\n",
    "model.save(\"t4_word2vec.model\")"
   ]
  },
  {
   "cell_type": "code",
   "execution_count": 10,
   "id": "b1b21410",
   "metadata": {},
   "outputs": [
    {
     "name": "stdout",
     "output_type": "stream",
     "text": [
      "Original Training set shape: (127748, 500) (127748, 1)\n"
     ]
    },
    {
     "data": {
      "text/plain": [
       "['t4_saved_tokenizer.joblib']"
      ]
     },
     "execution_count": 10,
     "metadata": {},
     "output_type": "execute_result"
    }
   ],
   "source": [
    "X_train.fillna(\"\", inplace=True)\n",
    "X_test.fillna(\"\", inplace=True)\n",
    "\n",
    "# Tokenize the text\n",
    "tokenizer = Tokenizer()\n",
    "tokenizer.fit_on_texts(X_train)\n",
    "\n",
    "# Convert text to sequences\n",
    "X_train_sequences = tokenizer.texts_to_sequences(X_train)\n",
    "X_test_sequences = tokenizer.texts_to_sequences(X_test)\n",
    "\n",
    "# Pad sequences to have a consistent length\n",
    "max_sequence_length = 500  # You can adjust this based on your data\n",
    "X_train_padded = pad_sequences(X_train_sequences, maxlen=max_sequence_length)\n",
    "X_test_padded = pad_sequences(X_test_sequences, maxlen=max_sequence_length)\n",
    "\n",
    "print(\"Original Training set shape:\", X_train_padded.shape, y_train.shape)\n",
    "\n",
    "# Load pre-trained Word2Vec model\n",
    "word2vec_model = Word2Vec.load(\"word2vec.model\")\n",
    "\n",
    "# Create an embedding matrix using Word2Vec\n",
    "embedding_matrix = np.zeros((len(tokenizer.word_index) + 1, word2vec_model.vector_size))\n",
    "\n",
    "for word, i in tokenizer.word_index.items():\n",
    "    if word in word2vec_model.wv:\n",
    "        embedding_matrix[i] = word2vec_model.wv[word]\n",
    "\n",
    "# Save the tokenizer\n",
    "joblib.dump(tokenizer, 't4_saved_tokenizer.joblib') "
   ]
  },
  {
   "cell_type": "markdown",
   "id": "662f2f98",
   "metadata": {},
   "source": [
    "### Handling Imbalanced Data"
   ]
  },
  {
   "cell_type": "code",
   "execution_count": 11,
   "id": "abef6c0e",
   "metadata": {
    "scrolled": true
   },
   "outputs": [
    {
     "name": "stdout",
     "output_type": "stream",
     "text": [
      "Original Training set shape: (127748, 500) (127748, 1)\n",
      "Resampled Training set shape: (230932, 500) (230932, 1)\n"
     ]
    }
   ],
   "source": [
    "### Handling Imbalanced Data for the training set\n",
    "\n",
    "smote = SMOTE(sampling_strategy='auto', random_state=42)\n",
    "X_sm, y_sm = smote.fit_resample(X_train_padded, y_train)\n",
    "\n",
    "print(\"Original Training set shape:\", X_train_padded.shape, y_train.shape)\n",
    "print(\"Resampled Training set shape:\", X_sm.shape, y_sm.shape)"
   ]
  },
  {
   "cell_type": "markdown",
   "id": "624bb1d9",
   "metadata": {},
   "source": [
    "#### MODEL - LOGISTIC REGRESSION"
   ]
  },
  {
   "cell_type": "code",
   "execution_count": null,
   "id": "6cb415ba",
   "metadata": {},
   "outputs": [],
   "source": [
    "### Build the Model: Choose a suitable machine learning algorithm\n",
    "# i.e. random forrest, logistic regression, support vector machines, or deep learning) and build the model."
   ]
  },
  {
   "cell_type": "code",
   "execution_count": 12,
   "id": "6b0355eb",
   "metadata": {},
   "outputs": [
    {
     "name": "stderr",
     "output_type": "stream",
     "text": [
      "C:\\Users\\calum\\anaconda3\\Lib\\site-packages\\sklearn\\linear_model\\_logistic.py:458: ConvergenceWarning: lbfgs failed to converge (status=1):\n",
      "STOP: TOTAL NO. of ITERATIONS REACHED LIMIT.\n",
      "\n",
      "Increase the number of iterations (max_iter) or scale the data as shown in:\n",
      "    https://scikit-learn.org/stable/modules/preprocessing.html\n",
      "Please also refer to the documentation for alternative solver options:\n",
      "    https://scikit-learn.org/stable/modules/linear_model.html#logistic-regression\n",
      "  n_iter_i = _check_optimize_result(\n"
     ]
    },
    {
     "data": {
      "text/html": [
       "<div>\n",
       "<style scoped>\n",
       "    .dataframe tbody tr th:only-of-type {\n",
       "        vertical-align: middle;\n",
       "    }\n",
       "\n",
       "    .dataframe tbody tr th {\n",
       "        vertical-align: top;\n",
       "    }\n",
       "\n",
       "    .dataframe thead th {\n",
       "        text-align: right;\n",
       "    }\n",
       "</style>\n",
       "<table border=\"1\" class=\"dataframe\">\n",
       "  <thead>\n",
       "    <tr style=\"text-align: right;\">\n",
       "      <th></th>\n",
       "      <th>Error_metric</th>\n",
       "      <th>Train</th>\n",
       "      <th>Test</th>\n",
       "    </tr>\n",
       "  </thead>\n",
       "  <tbody>\n",
       "    <tr>\n",
       "      <th>0</th>\n",
       "      <td>Accuracy</td>\n",
       "      <td>0.604200</td>\n",
       "      <td>0.511585</td>\n",
       "    </tr>\n",
       "    <tr>\n",
       "      <th>1</th>\n",
       "      <td>Precision</td>\n",
       "      <td>0.608507</td>\n",
       "      <td>0.860765</td>\n",
       "    </tr>\n",
       "    <tr>\n",
       "      <th>2</th>\n",
       "      <td>Recall</td>\n",
       "      <td>0.604200</td>\n",
       "      <td>0.511585</td>\n",
       "    </tr>\n",
       "  </tbody>\n",
       "</table>\n",
       "</div>"
      ],
      "text/plain": [
       "  Error_metric     Train      Test\n",
       "0     Accuracy  0.604200  0.511585\n",
       "1    Precision  0.608507  0.860765\n",
       "2       Recall  0.604200  0.511585"
      ]
     },
     "metadata": {},
     "output_type": "display_data"
    }
   ],
   "source": [
    "# Logistic Regression model\n",
    "\n",
    "log_model = LogisticRegression()\n",
    "log_model.fit(X_sm, y_sm)\n",
    "\n",
    "# Predictions on the resampled training set\n",
    "y_pred_train_log = log_model.predict(X_sm)\n",
    "\n",
    "# Predictions on the test set\n",
    "y_pred_test_log = log_model.predict(X_test_padded)  \n",
    "\n",
    "performance_log = pd.DataFrame({'Error_metric': ['Accuracy', 'Precision', 'Recall'],\n",
    "                                'Train': [accuracy_score(y_sm, y_pred_train_log),\n",
    "                                          precision_score(y_sm, y_pred_train_log, average='weighted'),  # Use 'weighted' for multi-label\n",
    "                                          recall_score(y_sm, y_pred_train_log, average='weighted')],\n",
    "                                'Test': [accuracy_score(y_test, y_pred_test_log),\n",
    "                                         precision_score(y_test, y_pred_test_log, average='weighted'),\n",
    "                                         recall_score(y_test, y_pred_test_log, average='weighted')]})\n",
    "\n",
    "display(performance_log)"
   ]
  },
  {
   "cell_type": "markdown",
   "id": "f4577030",
   "metadata": {},
   "source": [
    "#### MODEL - RANDOM FOREST"
   ]
  },
  {
   "cell_type": "code",
   "execution_count": 13,
   "id": "74a8e7a1",
   "metadata": {},
   "outputs": [
    {
     "data": {
      "text/html": [
       "<div>\n",
       "<style scoped>\n",
       "    .dataframe tbody tr th:only-of-type {\n",
       "        vertical-align: middle;\n",
       "    }\n",
       "\n",
       "    .dataframe tbody tr th {\n",
       "        vertical-align: top;\n",
       "    }\n",
       "\n",
       "    .dataframe thead th {\n",
       "        text-align: right;\n",
       "    }\n",
       "</style>\n",
       "<table border=\"1\" class=\"dataframe\">\n",
       "  <thead>\n",
       "    <tr style=\"text-align: right;\">\n",
       "      <th></th>\n",
       "      <th>Error_metric</th>\n",
       "      <th>Train</th>\n",
       "      <th>Test</th>\n",
       "    </tr>\n",
       "  </thead>\n",
       "  <tbody>\n",
       "    <tr>\n",
       "      <th>0</th>\n",
       "      <td>Accuracy</td>\n",
       "      <td>0.635356</td>\n",
       "      <td>0.568101</td>\n",
       "    </tr>\n",
       "    <tr>\n",
       "      <th>1</th>\n",
       "      <td>Precision</td>\n",
       "      <td>0.637905</td>\n",
       "      <td>0.862406</td>\n",
       "    </tr>\n",
       "    <tr>\n",
       "      <th>2</th>\n",
       "      <td>Recall</td>\n",
       "      <td>0.635356</td>\n",
       "      <td>0.568101</td>\n",
       "    </tr>\n",
       "  </tbody>\n",
       "</table>\n",
       "</div>"
      ],
      "text/plain": [
       "  Error_metric     Train      Test\n",
       "0     Accuracy  0.635356  0.568101\n",
       "1    Precision  0.637905  0.862406\n",
       "2       Recall  0.635356  0.568101"
      ]
     },
     "metadata": {},
     "output_type": "display_data"
    }
   ],
   "source": [
    "rfc_ops = {\n",
    "    \"max_depth\": 6,\n",
    "    \"min_samples_leaf\": 20, ## by default 1 . This is the minimun number of data points per leaf\n",
    "    \"n_estimators\": 100, ## number os trees in the forest\n",
    "    \"bootstrap\": True, # default is true\n",
    "    \"oob_score\": True, # out of bag can be retrieved\n",
    "    \"random_state\": 42\n",
    "}\n",
    "\n",
    "clf = RandomForestClassifier(**rfc_ops)\n",
    "clf.fit(X_sm, y_sm)\n",
    "\n",
    "# Predictions on the resampled training set\n",
    "y_pred_train_rfc = clf.predict(X_sm)\n",
    "\n",
    "# Predictions on the test set\n",
    "y_pred_test_rfc = clf.predict(X_test_padded)\n",
    "\n",
    "performance_rfc = pd.DataFrame({'Error_metric': ['Accuracy', 'Precision', 'Recall'],\n",
    "                                'Train': [accuracy_score(y_sm, y_pred_train_rfc),\n",
    "                                          precision_score(y_sm, y_pred_train_rfc, average='weighted'),\n",
    "                                          recall_score(y_sm, y_pred_train_rfc, average='weighted')],\n",
    "                                'Test': [accuracy_score(y_test, y_pred_test_rfc),\n",
    "                                         precision_score(y_test, y_pred_test_rfc, average='weighted'),\n",
    "                                         recall_score(y_test, y_pred_test_rfc, average='weighted')]})\n",
    "\n",
    "display(performance_rfc)"
   ]
  },
  {
   "cell_type": "markdown",
   "id": "39308fa0",
   "metadata": {},
   "source": [
    "#### MODEL - NAIVE BAYES"
   ]
  },
  {
   "cell_type": "code",
   "execution_count": 14,
   "id": "0b1b145a",
   "metadata": {},
   "outputs": [
    {
     "data": {
      "text/html": [
       "<div>\n",
       "<style scoped>\n",
       "    .dataframe tbody tr th:only-of-type {\n",
       "        vertical-align: middle;\n",
       "    }\n",
       "\n",
       "    .dataframe tbody tr th {\n",
       "        vertical-align: top;\n",
       "    }\n",
       "\n",
       "    .dataframe thead th {\n",
       "        text-align: right;\n",
       "    }\n",
       "</style>\n",
       "<table border=\"1\" class=\"dataframe\">\n",
       "  <thead>\n",
       "    <tr style=\"text-align: right;\">\n",
       "      <th></th>\n",
       "      <th>Error_metric</th>\n",
       "      <th>Train</th>\n",
       "      <th>Test</th>\n",
       "    </tr>\n",
       "  </thead>\n",
       "  <tbody>\n",
       "    <tr>\n",
       "      <th>0</th>\n",
       "      <td>Accuracy</td>\n",
       "      <td>0.571432</td>\n",
       "      <td>0.321529</td>\n",
       "    </tr>\n",
       "    <tr>\n",
       "      <th>1</th>\n",
       "      <td>Precision</td>\n",
       "      <td>0.610243</td>\n",
       "      <td>0.870482</td>\n",
       "    </tr>\n",
       "    <tr>\n",
       "      <th>2</th>\n",
       "      <td>Recall</td>\n",
       "      <td>0.571432</td>\n",
       "      <td>0.321529</td>\n",
       "    </tr>\n",
       "  </tbody>\n",
       "</table>\n",
       "</div>"
      ],
      "text/plain": [
       "  Error_metric     Train      Test\n",
       "0     Accuracy  0.571432  0.321529\n",
       "1    Precision  0.610243  0.870482\n",
       "2       Recall  0.571432  0.321529"
      ]
     },
     "metadata": {},
     "output_type": "display_data"
    },
    {
     "name": "stdout",
     "output_type": "stream",
     "text": [
      "              precision    recall  f1-score   support\n",
      "\n",
      "           0       0.95      0.26      0.41     28858\n",
      "           1       0.11      0.87      0.20      3080\n",
      "\n",
      "    accuracy                           0.32     31938\n",
      "   macro avg       0.53      0.57      0.31     31938\n",
      "weighted avg       0.87      0.32      0.39     31938\n",
      "\n"
     ]
    }
   ],
   "source": [
    "naive_bayes_model = MultinomialNB()\n",
    "naive_bayes_model.fit(X_sm, y_sm)\n",
    "\n",
    "# Predictions on the resampled training set\n",
    "y_pred_train = naive_bayes_model.predict(X_sm)\n",
    "\n",
    "# Predictions on the test set\n",
    "y_pred_test = naive_bayes_model.predict(X_test_padded)\n",
    "\n",
    "performance_naive_bayes = pd.DataFrame({'Error_metric': ['Accuracy', 'Precision', 'Recall'],\n",
    "                                         'Train': [accuracy_score(y_sm, y_pred_train),\n",
    "                                                   precision_score(y_sm, y_pred_train, average='weighted'),\n",
    "                                                   recall_score(y_sm, y_pred_train, average='weighted')],\n",
    "                                         'Test': [accuracy_score(y_test, y_pred_test),\n",
    "                                                  precision_score(y_test, y_pred_test, average='weighted'),\n",
    "                                                  recall_score(y_test, y_pred_test, average='weighted')]})\n",
    "\n",
    "\n",
    "display(performance_naive_bayes)\n",
    "print(classification_report(y_test, y_pred_test))"
   ]
  },
  {
   "cell_type": "markdown",
   "id": "123fdc86",
   "metadata": {},
   "source": [
    "#### TENSORFLOW"
   ]
  },
  {
   "cell_type": "code",
   "execution_count": 17,
   "id": "483905e6",
   "metadata": {
    "scrolled": false
   },
   "outputs": [
    {
     "name": "stdout",
     "output_type": "stream",
     "text": [
      "Model: \"sequential_1\"\n",
      "_________________________________________________________________\n",
      " Layer (type)                Output Shape              Param #   \n",
      "=================================================================\n",
      " embedding_1 (Embedding)     (None, 500, 1000)         144008000 \n",
      "                                                                 \n",
      " lstm (LSTM)                 (None, 100)               440400    \n",
      "                                                                 \n",
      " dense (Dense)               (None, 64)                6464      \n",
      "                                                                 \n",
      " dense_1 (Dense)             (None, 1)                 65        \n",
      "                                                                 \n",
      "=================================================================\n",
      "Total params: 144454929 (551.05 MB)\n",
      "Trainable params: 446929 (1.70 MB)\n",
      "Non-trainable params: 144008000 (549.35 MB)\n",
      "_________________________________________________________________\n"
     ]
    }
   ],
   "source": [
    "### This one!\n",
    "\n",
    "model = Sequential()\n",
    "model.add(Embedding(input_dim=len(tokenizer.word_index) + 1,\n",
    "                    output_dim=word2vec_model.vector_size,\n",
    "                    weights=[embedding_matrix],\n",
    "                    input_length=max_sequence_length,\n",
    "                    trainable=False))\n",
    "\n",
    "model.add(LSTM(units=100))\n",
    "model.add(Dense(units=64, activation='relu'))\n",
    "model.add(Dense(units=1, activation='sigmoid'))  # Binary classification, 1 output unit, sigmoid activation\n",
    "\n",
    "model.compile(optimizer='adam', loss='binary_crossentropy', metrics=['accuracy'])\n",
    "model.summary()"
   ]
  },
  {
   "cell_type": "code",
   "execution_count": 18,
   "id": "4fb4510b",
   "metadata": {},
   "outputs": [],
   "source": [
    "# Create callback to stop training process after getting >90% accuracy\n",
    "class myCallback(tf.keras.callbacks.Callback):\n",
    "    def on_epoch_end(self, epoch, logs={}):\n",
    "        # Assuming you are logging 'recall' and 'val_recall' during training\n",
    "        train_recall = logs.get('recall', 0)\n",
    "        val_recall = logs.get('val_recall', 0)\n",
    "        if train_recall > 0.90 and val_recall > 0.90:\n",
    "            self.model.stop_training = True\n",
    "            print(\"\\nThe recall of training and validation data has reached > 90%\")"
   ]
  },
  {
   "cell_type": "code",
   "execution_count": 19,
   "id": "5806f104",
   "metadata": {
    "scrolled": false
   },
   "outputs": [
    {
     "name": "stdout",
     "output_type": "stream",
     "text": [
      "Epoch 1/10\n",
      "3993/3993 [==============================] - 5122s 1s/step - loss: 0.3204 - accuracy: 0.9038 - val_loss: 0.3183 - val_accuracy: 0.9036\n",
      "Epoch 2/10\n",
      "3993/3993 [==============================] - 4627s 1s/step - loss: 0.3171 - accuracy: 0.9038 - val_loss: 0.3175 - val_accuracy: 0.9036\n",
      "Epoch 3/10\n",
      "3993/3993 [==============================] - 4013s 1s/step - loss: 0.3170 - accuracy: 0.9039 - val_loss: 0.3176 - val_accuracy: 0.9035\n",
      "Epoch 4/10\n",
      "3993/3993 [==============================] - 4208s 1s/step - loss: 0.3171 - accuracy: 0.9039 - val_loss: 0.3173 - val_accuracy: 0.9036\n",
      "Epoch 5/10\n",
      "3993/3993 [==============================] - 4325s 1s/step - loss: 0.3169 - accuracy: 0.9039 - val_loss: 0.3180 - val_accuracy: 0.9036\n",
      "Epoch 6/10\n",
      "3993/3993 [==============================] - 4338s 1s/step - loss: 0.3171 - accuracy: 0.9039 - val_loss: 0.3172 - val_accuracy: 0.9036\n",
      "Epoch 7/10\n",
      "3993/3993 [==============================] - 3736s 936ms/step - loss: 0.3170 - accuracy: 0.9039 - val_loss: 0.3182 - val_accuracy: 0.9036\n",
      "Epoch 8/10\n",
      "3993/3993 [==============================] - 3735s 935ms/step - loss: 0.3169 - accuracy: 0.9039 - val_loss: 0.3173 - val_accuracy: 0.9036\n",
      "Epoch 9/10\n",
      "3993/3993 [==============================] - 3788s 949ms/step - loss: 0.3167 - accuracy: 0.9039 - val_loss: 0.3172 - val_accuracy: 0.9036\n",
      "Epoch 10/10\n",
      "3993/3993 [==============================] - 3733s 935ms/step - loss: 0.3167 - accuracy: 0.9039 - val_loss: 0.3171 - val_accuracy: 0.9036\n"
     ]
    },
    {
     "data": {
      "text/plain": [
       "<keras.src.callbacks.History at 0x219201c59d0>"
      ]
     },
     "execution_count": 19,
     "metadata": {},
     "output_type": "execute_result"
    }
   ],
   "source": [
    "# No one-hot encoding needed for binary classification\n",
    "callbacks = myCallback()\n",
    "\n",
    "model.fit(X_train_padded, \n",
    "          y_train, epochs=10, \n",
    "          batch_size=32, \n",
    "          validation_data=(X_test_padded, y_test))"
   ]
  },
  {
   "cell_type": "code",
   "execution_count": 20,
   "id": "4d491e53",
   "metadata": {},
   "outputs": [
    {
     "name": "stdout",
     "output_type": "stream",
     "text": [
      "999/999 [==============================] - 374s 375ms/step - loss: 0.3171 - accuracy: 0.9036\n",
      "Test Loss: 0.3171359896659851\n",
      "Test Accuracy: 0.9035631418228149\n"
     ]
    }
   ],
   "source": [
    "evaluation_result = model.evaluate(X_test_padded, y_test)\n",
    "\n",
    "print(\"Test Loss:\", evaluation_result[0])\n",
    "print(\"Test Accuracy:\", evaluation_result[1])"
   ]
  },
  {
   "cell_type": "code",
   "execution_count": 21,
   "id": "bbd0cdc7",
   "metadata": {},
   "outputs": [
    {
     "name": "stdout",
     "output_type": "stream",
     "text": [
      "3993/3993 [==============================] - 1468s 367ms/step\n",
      "999/999 [==============================] - 384s 384ms/step\n"
     ]
    },
    {
     "data": {
      "text/html": [
       "<div>\n",
       "<style scoped>\n",
       "    .dataframe tbody tr th:only-of-type {\n",
       "        vertical-align: middle;\n",
       "    }\n",
       "\n",
       "    .dataframe tbody tr th {\n",
       "        vertical-align: top;\n",
       "    }\n",
       "\n",
       "    .dataframe thead th {\n",
       "        text-align: right;\n",
       "    }\n",
       "</style>\n",
       "<table border=\"1\" class=\"dataframe\">\n",
       "  <thead>\n",
       "    <tr style=\"text-align: right;\">\n",
       "      <th></th>\n",
       "      <th>Error_metric</th>\n",
       "      <th>Train</th>\n",
       "      <th>Test</th>\n",
       "    </tr>\n",
       "  </thead>\n",
       "  <tbody>\n",
       "    <tr>\n",
       "      <th>0</th>\n",
       "      <td>Accuracy</td>\n",
       "      <td>0.903905</td>\n",
       "      <td>0.903563</td>\n",
       "    </tr>\n",
       "    <tr>\n",
       "      <th>1</th>\n",
       "      <td>Precision</td>\n",
       "      <td>0.913139</td>\n",
       "      <td>0.912863</td>\n",
       "    </tr>\n",
       "    <tr>\n",
       "      <th>2</th>\n",
       "      <td>Recall</td>\n",
       "      <td>0.903905</td>\n",
       "      <td>0.903563</td>\n",
       "    </tr>\n",
       "  </tbody>\n",
       "</table>\n",
       "</div>"
      ],
      "text/plain": [
       "  Error_metric     Train      Test\n",
       "0     Accuracy  0.903905  0.903563\n",
       "1    Precision  0.913139  0.912863\n",
       "2       Recall  0.903905  0.903563"
      ]
     },
     "metadata": {},
     "output_type": "display_data"
    }
   ],
   "source": [
    "y_pred_train_prob = model.predict(X_train_padded)\n",
    "y_pred_test_prob = model.predict(X_test_padded)\n",
    "\n",
    "# Convert probabilities to class labels (using a threshold, e.g., 0.5)\n",
    "y_pred_train = (y_pred_train_prob > 0.5).astype(int).reshape(-1)\n",
    "y_pred_test = (y_pred_test_prob > 0.5).astype(int).reshape(-1)\n",
    "\n",
    "# Calculate performance metrics\n",
    "performance_tf = pd.DataFrame({'Error_metric': ['Accuracy', 'Precision', 'Recall'],\n",
    "                             'Train': [accuracy_score(y_train, y_pred_train),\n",
    "                                       precision_score(y_train, y_pred_train, average='weighted', zero_division=1),\n",
    "                                       recall_score(y_train, y_pred_train, average='weighted', zero_division=1)],\n",
    "                             'Test': [accuracy_score(y_test, y_pred_test),\n",
    "                                      precision_score(y_test, y_pred_test, average='weighted', zero_division=1),\n",
    "                                      recall_score(y_test, y_pred_test, average='weighted', zero_division=1)]})\n",
    "\n",
    "\n",
    "display(performance_tf)"
   ]
  },
  {
   "cell_type": "code",
   "execution_count": 22,
   "id": "3a5f82b3",
   "metadata": {},
   "outputs": [],
   "source": [
    "# Save the model in SavedModel format .keras zip file\n",
    "model.save('tf4_model.keras')"
   ]
  },
  {
   "cell_type": "markdown",
   "id": "732ab455",
   "metadata": {},
   "source": [
    "#### >>> TESTING THE MODELS <<<"
   ]
  },
  {
   "cell_type": "code",
   "execution_count": 23,
   "id": "b841f4c7",
   "metadata": {
    "scrolled": false
   },
   "outputs": [
    {
     "name": "stdout",
     "output_type": "stream",
     "text": [
      "Performance for All Models: \n",
      "\n",
      "LOGISTIC REGRESSION\n"
     ]
    },
    {
     "data": {
      "text/html": [
       "<div>\n",
       "<style scoped>\n",
       "    .dataframe tbody tr th:only-of-type {\n",
       "        vertical-align: middle;\n",
       "    }\n",
       "\n",
       "    .dataframe tbody tr th {\n",
       "        vertical-align: top;\n",
       "    }\n",
       "\n",
       "    .dataframe thead th {\n",
       "        text-align: right;\n",
       "    }\n",
       "</style>\n",
       "<table border=\"1\" class=\"dataframe\">\n",
       "  <thead>\n",
       "    <tr style=\"text-align: right;\">\n",
       "      <th></th>\n",
       "      <th>Error_metric</th>\n",
       "      <th>Train</th>\n",
       "      <th>Test</th>\n",
       "    </tr>\n",
       "  </thead>\n",
       "  <tbody>\n",
       "    <tr>\n",
       "      <th>0</th>\n",
       "      <td>Accuracy</td>\n",
       "      <td>0.604200</td>\n",
       "      <td>0.511585</td>\n",
       "    </tr>\n",
       "    <tr>\n",
       "      <th>1</th>\n",
       "      <td>Precision</td>\n",
       "      <td>0.608507</td>\n",
       "      <td>0.860765</td>\n",
       "    </tr>\n",
       "    <tr>\n",
       "      <th>2</th>\n",
       "      <td>Recall</td>\n",
       "      <td>0.604200</td>\n",
       "      <td>0.511585</td>\n",
       "    </tr>\n",
       "  </tbody>\n",
       "</table>\n",
       "</div>"
      ],
      "text/plain": [
       "  Error_metric     Train      Test\n",
       "0     Accuracy  0.604200  0.511585\n",
       "1    Precision  0.608507  0.860765\n",
       "2       Recall  0.604200  0.511585"
      ]
     },
     "metadata": {},
     "output_type": "display_data"
    },
    {
     "name": "stdout",
     "output_type": "stream",
     "text": [
      "\n",
      "RANDOM FOREST\n"
     ]
    },
    {
     "data": {
      "text/html": [
       "<div>\n",
       "<style scoped>\n",
       "    .dataframe tbody tr th:only-of-type {\n",
       "        vertical-align: middle;\n",
       "    }\n",
       "\n",
       "    .dataframe tbody tr th {\n",
       "        vertical-align: top;\n",
       "    }\n",
       "\n",
       "    .dataframe thead th {\n",
       "        text-align: right;\n",
       "    }\n",
       "</style>\n",
       "<table border=\"1\" class=\"dataframe\">\n",
       "  <thead>\n",
       "    <tr style=\"text-align: right;\">\n",
       "      <th></th>\n",
       "      <th>Error_metric</th>\n",
       "      <th>Train</th>\n",
       "      <th>Test</th>\n",
       "    </tr>\n",
       "  </thead>\n",
       "  <tbody>\n",
       "    <tr>\n",
       "      <th>0</th>\n",
       "      <td>Accuracy</td>\n",
       "      <td>0.635356</td>\n",
       "      <td>0.568101</td>\n",
       "    </tr>\n",
       "    <tr>\n",
       "      <th>1</th>\n",
       "      <td>Precision</td>\n",
       "      <td>0.637905</td>\n",
       "      <td>0.862406</td>\n",
       "    </tr>\n",
       "    <tr>\n",
       "      <th>2</th>\n",
       "      <td>Recall</td>\n",
       "      <td>0.635356</td>\n",
       "      <td>0.568101</td>\n",
       "    </tr>\n",
       "  </tbody>\n",
       "</table>\n",
       "</div>"
      ],
      "text/plain": [
       "  Error_metric     Train      Test\n",
       "0     Accuracy  0.635356  0.568101\n",
       "1    Precision  0.637905  0.862406\n",
       "2       Recall  0.635356  0.568101"
      ]
     },
     "metadata": {},
     "output_type": "display_data"
    },
    {
     "name": "stdout",
     "output_type": "stream",
     "text": [
      "\n",
      "NAIVE BAYES\n"
     ]
    },
    {
     "data": {
      "text/html": [
       "<div>\n",
       "<style scoped>\n",
       "    .dataframe tbody tr th:only-of-type {\n",
       "        vertical-align: middle;\n",
       "    }\n",
       "\n",
       "    .dataframe tbody tr th {\n",
       "        vertical-align: top;\n",
       "    }\n",
       "\n",
       "    .dataframe thead th {\n",
       "        text-align: right;\n",
       "    }\n",
       "</style>\n",
       "<table border=\"1\" class=\"dataframe\">\n",
       "  <thead>\n",
       "    <tr style=\"text-align: right;\">\n",
       "      <th></th>\n",
       "      <th>Error_metric</th>\n",
       "      <th>Train</th>\n",
       "      <th>Test</th>\n",
       "    </tr>\n",
       "  </thead>\n",
       "  <tbody>\n",
       "    <tr>\n",
       "      <th>0</th>\n",
       "      <td>Accuracy</td>\n",
       "      <td>0.571432</td>\n",
       "      <td>0.321529</td>\n",
       "    </tr>\n",
       "    <tr>\n",
       "      <th>1</th>\n",
       "      <td>Precision</td>\n",
       "      <td>0.610243</td>\n",
       "      <td>0.870482</td>\n",
       "    </tr>\n",
       "    <tr>\n",
       "      <th>2</th>\n",
       "      <td>Recall</td>\n",
       "      <td>0.571432</td>\n",
       "      <td>0.321529</td>\n",
       "    </tr>\n",
       "  </tbody>\n",
       "</table>\n",
       "</div>"
      ],
      "text/plain": [
       "  Error_metric     Train      Test\n",
       "0     Accuracy  0.571432  0.321529\n",
       "1    Precision  0.610243  0.870482\n",
       "2       Recall  0.571432  0.321529"
      ]
     },
     "metadata": {},
     "output_type": "display_data"
    },
    {
     "name": "stdout",
     "output_type": "stream",
     "text": [
      "\n",
      "TENSOR FLOW\n"
     ]
    },
    {
     "data": {
      "text/html": [
       "<div>\n",
       "<style scoped>\n",
       "    .dataframe tbody tr th:only-of-type {\n",
       "        vertical-align: middle;\n",
       "    }\n",
       "\n",
       "    .dataframe tbody tr th {\n",
       "        vertical-align: top;\n",
       "    }\n",
       "\n",
       "    .dataframe thead th {\n",
       "        text-align: right;\n",
       "    }\n",
       "</style>\n",
       "<table border=\"1\" class=\"dataframe\">\n",
       "  <thead>\n",
       "    <tr style=\"text-align: right;\">\n",
       "      <th></th>\n",
       "      <th>Error_metric</th>\n",
       "      <th>Train</th>\n",
       "      <th>Test</th>\n",
       "    </tr>\n",
       "  </thead>\n",
       "  <tbody>\n",
       "    <tr>\n",
       "      <th>0</th>\n",
       "      <td>Accuracy</td>\n",
       "      <td>0.903905</td>\n",
       "      <td>0.903563</td>\n",
       "    </tr>\n",
       "    <tr>\n",
       "      <th>1</th>\n",
       "      <td>Precision</td>\n",
       "      <td>0.913139</td>\n",
       "      <td>0.912863</td>\n",
       "    </tr>\n",
       "    <tr>\n",
       "      <th>2</th>\n",
       "      <td>Recall</td>\n",
       "      <td>0.903905</td>\n",
       "      <td>0.903563</td>\n",
       "    </tr>\n",
       "  </tbody>\n",
       "</table>\n",
       "</div>"
      ],
      "text/plain": [
       "  Error_metric     Train      Test\n",
       "0     Accuracy  0.903905  0.903563\n",
       "1    Precision  0.913139  0.912863\n",
       "2       Recall  0.903905  0.903563"
      ]
     },
     "metadata": {},
     "output_type": "display_data"
    }
   ],
   "source": [
    "# Comparing the models\n",
    "\n",
    "print(\"Performance for All Models: \\n\")\n",
    "print(\"LOGISTIC REGRESSION\")\n",
    "display(performance_log)\n",
    "print(\"\\nRANDOM FOREST\")\n",
    "display(performance_rfc)\n",
    "print(\"\\nNAIVE BAYES\")\n",
    "display(performance_naive_bayes)\n",
    "print(\"\\nTENSOR FLOW\")\n",
    "display(performance_tf)"
   ]
  },
  {
   "cell_type": "code",
   "execution_count": 24,
   "id": "2d1a520a",
   "metadata": {},
   "outputs": [
    {
     "data": {
      "text/plain": [
       "'\\nLOGISTIC REGRESSION\\nError_metric\\tTrain\\tTest\\n0\\tAccuracy\\t0.600159\\t0.510646\\n1\\tPrecision\\t0.604074\\t0.859725\\n2\\tRecall\\t0.600159\\t0.510646\\n\\nRANDOM FOREST\\nError_metric\\tTrain\\tTest\\n0\\tAccuracy\\t0.655314\\t0.577995\\n1\\tPrecision\\t0.658777\\t0.862576\\n2\\tRecall\\t0.655314\\t0.577995\\n\\nNAIVE BAYES\\nError_metric\\tTrain\\tTest\\n0\\tAccuracy\\t0.571060\\t0.328418\\n1\\tPrecision\\t0.606347\\t0.869915\\n2\\tRecall\\t0.571060\\t0.328418\\n\\nTENSOR FLOW\\nError_metric\\tTrain\\tTest\\n0\\tAccuracy\\t0.904006\\t0.903501\\n1\\tPrecision\\t0.908650\\t0.816421\\n2\\tRecall\\t0.904006\\t0.903501\\n'"
      ]
     },
     "execution_count": 24,
     "metadata": {},
     "output_type": "execute_result"
    }
   ],
   "source": [
    "\n",
    "'''LOGISTIC REGRESSION\n",
    "Error_metric\tTrain\tTest\n",
    "0\tAccuracy\t0.604200\t0.511585\n",
    "1\tPrecision\t0.608507\t0.860765\n",
    "2\tRecall\t0.604200\t0.511585\n",
    "\n",
    "RANDOM FOREST\n",
    "Error_metric\tTrain\tTest\n",
    "0\tAccuracy\t0.635356\t0.568101\n",
    "1\tPrecision\t0.637905\t0.862406\n",
    "2\tRecall\t0.635356\t0.568101\n",
    "\n",
    "NAIVE BAYES\n",
    "Error_metric\tTrain\tTest\n",
    "0\tAccuracy\t0.571432\t0.321529\n",
    "1\tPrecision\t0.610243\t0.870482\n",
    "2\tRecall\t0.571432\t0.321529\n",
    "\n",
    "TENSOR FLOW\n",
    "Error_metric\tTrain\tTest\n",
    "0\tAccuracy\t0.903905\t0.903563\n",
    "1\tPrecision\t0.913139\t0.912863\n",
    "2\tRecall\t0.903905\t0.903563\n"
   ]
  },
  {
   "cell_type": "code",
   "execution_count": null,
   "id": "d8473ce8",
   "metadata": {},
   "outputs": [],
   "source": []
  },
  {
   "cell_type": "code",
   "execution_count": 31,
   "id": "392b7f05",
   "metadata": {},
   "outputs": [
    {
     "data": {
      "image/png": "[encoded data removed]",
      "text/plain": [
       "<Figure size 1000x1500 with 3 Axes>"
      ]
     },
     "metadata": {},
     "output_type": "display_data"
    }
   ],
   "source": [
    "import pandas as pd\n",
    "import matplotlib.pyplot as plt\n",
    "\n",
    "# Create a dictionary with the provided results\n",
    "data = {\n",
    "    'Model': ['Logistic Regression', 'Random Forest', 'Naive Bayes', 'TensorFlow'],\n",
    "    'Accuracy_Train': [0.604200, 0.635356, 0.571432, 0.903905],\n",
    "    'Accuracy_Test': [0.511585, 0.568101, 0.321529, 0.903563],\n",
    "    'Precision_Train': [0.608507, 0.637905, 0.610243, 0.913139],\n",
    "    'Precision_Test': [0.860765, 0.862406, 0.870482, 0.912863],\n",
    "    'Recall_Train': [0.604200, 0.635356, 0.571432, 0.903905],\n",
    "    'Recall_Test': [0.511585, 0.568101, 0.321529, 0.903563],\n",
    "}\n",
    "\n",
    "# Create a DataFrame\n",
    "df = pd.DataFrame(data)\n",
    "\n",
    "\n",
    "# Plot the comparison\n",
    "fig, axes = plt.subplots(nrows=3, ncols=1, figsize=(10, 15))\n",
    "\n",
    "# Define a function to add trend lines\n",
    "def add_trend_line(ax, x, y, label, degree=2):\n",
    "    z = np.polyfit(x, y, degree)\n",
    "    p = np.poly1d(z)\n",
    "    x_fit = np.linspace(min(x), max(x), 100)\n",
    "    y_fit = p(x_fit)\n",
    "    ax.plot(x_fit, y_fit, label=f'Trend {label}', color='red', linestyle='--')\n",
    "\n",
    "# Accuracy comparison\n",
    "df.plot(kind='bar', x='Model', y=['Accuracy_Train', 'Accuracy_Test'], ax=axes[0], title='Accuracy Comparison')\n",
    "\n",
    "# Precision comparison\n",
    "df.plot(kind='bar', x='Model', y=['Precision_Train', 'Precision_Test'], ax=axes[1], title='Precision Comparison')\n",
    "\n",
    "# Recall comparison\n",
    "df.plot(kind='bar', x='Model', y=['Recall_Train', 'Recall_Test'], ax=axes[2], title='Recall Comparison')\n",
    "\n",
    "plt.tight_layout()\n",
    "plt.show()"
   ]
  },
  {
   "cell_type": "code",
   "execution_count": 33,
   "id": "6fd0eb77",
   "metadata": {},
   "outputs": [
    {
     "data": {
      "text/plain": [
       "{'Model': ['Logistic Regression',\n",
       "  'Random Forest',\n",
       "  'Naive Bayes',\n",
       "  'TensorFlow'],\n",
       " 'Accuracy_Train': [0.6042, 0.635356, 0.571432, 0.903905],\n",
       " 'Accuracy_Test': [0.511585, 0.568101, 0.321529, 0.903563],\n",
       " 'Precision_Train': [0.608507, 0.637905, 0.610243, 0.913139],\n",
       " 'Precision_Test': [0.860765, 0.862406, 0.870482, 0.912863],\n",
       " 'Recall_Train': [0.6042, 0.635356, 0.571432, 0.903905],\n",
       " 'Recall_Test': [0.511585, 0.568101, 0.321529, 0.903563]}"
      ]
     },
     "execution_count": 33,
     "metadata": {},
     "output_type": "execute_result"
    }
   ],
   "source": [
    "data"
   ]
  },
  {
   "cell_type": "code",
   "execution_count": null,
   "id": "5541373d",
   "metadata": {},
   "outputs": [],
   "source": []
  }
 ],
 "metadata": {
  "kernelspec": {
   "display_name": "Python 3 (ipykernel)",
   "language": "python",
   "name": "python3"
  },
  "language_info": {
   "codemirror_mode": {
    "name": "ipython",
    "version": 3
   },
   "file_extension": ".py",
   "mimetype": "text/x-python",
   "name": "python",
   "nbconvert_exporter": "python",
   "pygments_lexer": "ipython3",
   "version": "3.11.5"
  }
 },
 "nbformat": 4,
 "nbformat_minor": 5
}
