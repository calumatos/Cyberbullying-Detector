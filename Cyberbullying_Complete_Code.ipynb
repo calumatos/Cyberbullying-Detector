{
 "cells": [
  {
   "cell_type": "markdown",
   "id": "3b47f014",
   "metadata": {},
   "source": [
    "We have 8 csv files:\n",
    "\n",
    "- Bullying_1: aggression_parsed_dataset.csv       (115864 rows × 5 columns)\n",
    "- Bullying_2: attack_parsed_dataset.csv           (115864 rows × 5 columns) \n",
    "- Bullying_3: twitter_parsed_dataset.csv          (16851 rows × 5 columns) \n",
    "- Bullying_4: twitter_racism_parsed_dataset.csv   (13471 rows × 5 columns) \n",
    "- Bullying_5: twitter_sexism_parsed_dataset.csv   (14881 rows × 5 columns) \n",
    "- Bullying_6: youtube_parsed_dataset.csv          (3464 rows × 10 columns) \n",
    "- Bullying_7: toxicity_parsed_dataset.csv         (159686 rows × 5 columns) \n",
    "- Bullying_8: kaggle_parsed_dataset.csv           (8799 rows × 4 columns) \n",
    "\n",
    "\n",
    "https://www.kaggle.com/datasets/saurabhshahane/cyberbullying-dataset?select=aggression_parsed_dataset.csv"
   ]
  },
  {
   "cell_type": "code",
   "execution_count": 1,
   "id": "d029048d",
   "metadata": {},
   "outputs": [],
   "source": [
    "import pandas as pd\n",
    "import numpy as np\n",
    "import re\n",
    "import string\n",
    "import matplotlib.pyplot as plt\n",
    "import seaborn as sns\n",
    "import nltk\n",
    "import pickle\n",
    "import joblib\n",
    "\n",
    "from nltk.tokenize import word_tokenize\n",
    "from nltk.corpus import stopwords\n",
    "from nltk.stem import PorterStemmer\n",
    "from gensim.models import Word2Vec\n",
    "from imblearn.over_sampling import SMOTE\n",
    "\n",
    "from sklearn.feature_extraction.text import CountVectorizer, TfidfVectorizer\n",
    "from sklearn.model_selection import train_test_split\n",
    "from sklearn.linear_model import LogisticRegression\n",
    "from sklearn.preprocessing import PowerTransformer\n",
    "from sklearn.metrics import accuracy_score, precision_score, recall_score, confusion_matrix\n",
    "from sklearn.ensemble import RandomForestClassifier\n",
    "from sklearn.naive_bayes import MultinomialNB\n",
    "from sklearn.datasets import make_classification\n",
    "from sklearn.preprocessing import LabelBinarizer\n",
    "from sklearn.metrics import multilabel_confusion_matrix, hamming_loss, classification_report\n",
    "from sklearn.model_selection import cross_val_predict\n",
    "from sklearn.metrics import accuracy_score, precision_score, recall_score, f1_score\n",
    "\n",
    "\n",
    "import tensorflow as tf\n",
    "from tensorflow.keras.models import Sequential\n",
    "from tensorflow.keras.layers import Embedding, Flatten, Dense\n",
    "from tensorflow.keras.preprocessing.text import Tokenizer\n",
    "from tensorflow.keras.preprocessing.sequence import pad_sequences\n",
    "from tensorflow.keras.utils import to_categorical \n",
    "from tensorflow.keras.models import load_model\n",
    "\n",
    "import warnings\n",
    "from sklearn.exceptions import DataConversionWarning\n",
    "warnings.filterwarnings(\"ignore\", category=DataConversionWarning)\n",
    "\n"
   ]
  },
  {
   "cell_type": "code",
   "execution_count": 2,
   "id": "fe97ba65",
   "metadata": {},
   "outputs": [],
   "source": [
    "#pip install --upgrade nltk"
   ]
  },
  {
   "cell_type": "code",
   "execution_count": 3,
   "id": "bd9af3de",
   "metadata": {},
   "outputs": [],
   "source": [
    "# Loading the data\n",
    "sample_size = 1000\n",
    "B = pd.read_csv(\"toxicity_parsed_dataset.csv\", nrows=sample_size, index_col=0)"
   ]
  },
  {
   "cell_type": "code",
   "execution_count": 4,
   "id": "5629addb",
   "metadata": {},
   "outputs": [
    {
     "data": {
      "text/html": [
       "<div>\n",
       "<style scoped>\n",
       "    .dataframe tbody tr th:only-of-type {\n",
       "        vertical-align: middle;\n",
       "    }\n",
       "\n",
       "    .dataframe tbody tr th {\n",
       "        vertical-align: top;\n",
       "    }\n",
       "\n",
       "    .dataframe thead th {\n",
       "        text-align: right;\n",
       "    }\n",
       "</style>\n",
       "<table border=\"1\" class=\"dataframe\">\n",
       "  <thead>\n",
       "    <tr style=\"text-align: right;\">\n",
       "      <th></th>\n",
       "      <th>Text</th>\n",
       "      <th>ed_label_0</th>\n",
       "      <th>ed_label_1</th>\n",
       "      <th>oh_label</th>\n",
       "    </tr>\n",
       "    <tr>\n",
       "      <th>index</th>\n",
       "      <th></th>\n",
       "      <th></th>\n",
       "      <th></th>\n",
       "      <th></th>\n",
       "    </tr>\n",
       "  </thead>\n",
       "  <tbody>\n",
       "    <tr>\n",
       "      <th>0</th>\n",
       "      <td>This: :One can make an analogy in mathematical...</td>\n",
       "      <td>0.9</td>\n",
       "      <td>0.1</td>\n",
       "      <td>0</td>\n",
       "    </tr>\n",
       "    <tr>\n",
       "      <th>1</th>\n",
       "      <td>`  :Clarification for you  (and Zundark's righ...</td>\n",
       "      <td>1.0</td>\n",
       "      <td>0.0</td>\n",
       "      <td>0</td>\n",
       "    </tr>\n",
       "    <tr>\n",
       "      <th>2</th>\n",
       "      <td>Elected or Electoral? JHK</td>\n",
       "      <td>1.0</td>\n",
       "      <td>0.0</td>\n",
       "      <td>0</td>\n",
       "    </tr>\n",
       "    <tr>\n",
       "      <th>3</th>\n",
       "      <td>`This is such a fun entry.   Devotchka  I once...</td>\n",
       "      <td>1.0</td>\n",
       "      <td>0.0</td>\n",
       "      <td>0</td>\n",
       "    </tr>\n",
       "    <tr>\n",
       "      <th>4</th>\n",
       "      <td>Please relate the ozone hole to increases in c...</td>\n",
       "      <td>0.8</td>\n",
       "      <td>0.2</td>\n",
       "      <td>0</td>\n",
       "    </tr>\n",
       "    <tr>\n",
       "      <th>...</th>\n",
       "      <td>...</td>\n",
       "      <td>...</td>\n",
       "      <td>...</td>\n",
       "      <td>...</td>\n",
       "    </tr>\n",
       "    <tr>\n",
       "      <th>995</th>\n",
       "      <td>==Rhobite's lack of sincerity revealed== Rho...</td>\n",
       "      <td>0.8</td>\n",
       "      <td>0.2</td>\n",
       "      <td>0</td>\n",
       "    </tr>\n",
       "    <tr>\n",
       "      <th>996</th>\n",
       "      <td>` *That's an interesting thought.  It is usefu...</td>\n",
       "      <td>1.0</td>\n",
       "      <td>0.0</td>\n",
       "      <td>0</td>\n",
       "    </tr>\n",
       "    <tr>\n",
       "      <th>997</th>\n",
       "      <td>==Please obtain a Wikipedia User ID==  It wo...</td>\n",
       "      <td>1.0</td>\n",
       "      <td>0.0</td>\n",
       "      <td>0</td>\n",
       "    </tr>\n",
       "    <tr>\n",
       "      <th>998</th>\n",
       "      <td>§ As someone coming to this without a prior...</td>\n",
       "      <td>0.6</td>\n",
       "      <td>0.4</td>\n",
       "      <td>0</td>\n",
       "    </tr>\n",
       "    <tr>\n",
       "      <th>999</th>\n",
       "      <td>`Archive01 Posts through Oct. 30, 2004  Hi Nat...</td>\n",
       "      <td>1.0</td>\n",
       "      <td>0.0</td>\n",
       "      <td>0</td>\n",
       "    </tr>\n",
       "  </tbody>\n",
       "</table>\n",
       "<p>1000 rows × 4 columns</p>\n",
       "</div>"
      ],
      "text/plain": [
       "                                                    Text  ed_label_0  \\\n",
       "index                                                                  \n",
       "0      This: :One can make an analogy in mathematical...         0.9   \n",
       "1      `  :Clarification for you  (and Zundark's righ...         1.0   \n",
       "2                              Elected or Electoral? JHK         1.0   \n",
       "3      `This is such a fun entry.   Devotchka  I once...         1.0   \n",
       "4      Please relate the ozone hole to increases in c...         0.8   \n",
       "...                                                  ...         ...   \n",
       "995      ==Rhobite's lack of sincerity revealed== Rho...         0.8   \n",
       "996    ` *That's an interesting thought.  It is usefu...         1.0   \n",
       "997      ==Please obtain a Wikipedia User ID==  It wo...         1.0   \n",
       "998       § As someone coming to this without a prior...         0.6   \n",
       "999    `Archive01 Posts through Oct. 30, 2004  Hi Nat...         1.0   \n",
       "\n",
       "       ed_label_1  oh_label  \n",
       "index                        \n",
       "0             0.1         0  \n",
       "1             0.0         0  \n",
       "2             0.0         0  \n",
       "3             0.0         0  \n",
       "4             0.2         0  \n",
       "...           ...       ...  \n",
       "995           0.2         0  \n",
       "996           0.0         0  \n",
       "997           0.0         0  \n",
       "998           0.4         0  \n",
       "999           0.0         0  \n",
       "\n",
       "[1000 rows x 4 columns]"
      ]
     },
     "execution_count": 4,
     "metadata": {},
     "output_type": "execute_result"
    }
   ],
   "source": [
    "# Original dataframe\n",
    "B"
   ]
  },
  {
   "cell_type": "code",
   "execution_count": 5,
   "id": "524c5bdc",
   "metadata": {
    "scrolled": true
   },
   "outputs": [
    {
     "data": {
      "text/html": [
       "<div>\n",
       "<style scoped>\n",
       "    .dataframe tbody tr th:only-of-type {\n",
       "        vertical-align: middle;\n",
       "    }\n",
       "\n",
       "    .dataframe tbody tr th {\n",
       "        vertical-align: top;\n",
       "    }\n",
       "\n",
       "    .dataframe thead th {\n",
       "        text-align: right;\n",
       "    }\n",
       "</style>\n",
       "<table border=\"1\" class=\"dataframe\">\n",
       "  <thead>\n",
       "    <tr style=\"text-align: right;\">\n",
       "      <th></th>\n",
       "      <th>Text</th>\n",
       "      <th>ed_label_0</th>\n",
       "      <th>ed_label_1</th>\n",
       "      <th>oh_label</th>\n",
       "    </tr>\n",
       "    <tr>\n",
       "      <th>index</th>\n",
       "      <th></th>\n",
       "      <th></th>\n",
       "      <th></th>\n",
       "      <th></th>\n",
       "    </tr>\n",
       "  </thead>\n",
       "  <tbody>\n",
       "    <tr>\n",
       "      <th>334</th>\n",
       "      <td>```Nazi filth`` is impolite    `</td>\n",
       "      <td>0.2</td>\n",
       "      <td>0.8</td>\n",
       "      <td>1</td>\n",
       "    </tr>\n",
       "  </tbody>\n",
       "</table>\n",
       "</div>"
      ],
      "text/plain": [
       "                                   Text  ed_label_0  ed_label_1  oh_label\n",
       "index                                                                    \n",
       "334    ```Nazi filth`` is impolite    `         0.2         0.8         1"
      ]
     },
     "execution_count": 5,
     "metadata": {},
     "output_type": "execute_result"
    }
   ],
   "source": [
    "# sample of a 'bullying text (1)'\n",
    "B.loc[B[\"oh_label\"]==1].sample()"
   ]
  },
  {
   "cell_type": "code",
   "execution_count": 6,
   "id": "004ab8f6",
   "metadata": {},
   "outputs": [
    {
     "data": {
      "text/plain": [
       "'i have a dick, its bigger than yours! hahaha'"
      ]
     },
     "execution_count": 6,
     "metadata": {},
     "output_type": "execute_result"
    }
   ],
   "source": [
    "B['Text'][661]"
   ]
  },
  {
   "cell_type": "code",
   "execution_count": 7,
   "id": "09c1a576",
   "metadata": {},
   "outputs": [
    {
     "data": {
      "text/html": [
       "<div>\n",
       "<style scoped>\n",
       "    .dataframe tbody tr th:only-of-type {\n",
       "        vertical-align: middle;\n",
       "    }\n",
       "\n",
       "    .dataframe tbody tr th {\n",
       "        vertical-align: top;\n",
       "    }\n",
       "\n",
       "    .dataframe thead th {\n",
       "        text-align: right;\n",
       "    }\n",
       "</style>\n",
       "<table border=\"1\" class=\"dataframe\">\n",
       "  <thead>\n",
       "    <tr style=\"text-align: right;\">\n",
       "      <th></th>\n",
       "      <th>Text</th>\n",
       "      <th>ed_label_0</th>\n",
       "      <th>ed_label_1</th>\n",
       "      <th>oh_label</th>\n",
       "    </tr>\n",
       "    <tr>\n",
       "      <th>index</th>\n",
       "      <th></th>\n",
       "      <th></th>\n",
       "      <th></th>\n",
       "      <th></th>\n",
       "    </tr>\n",
       "  </thead>\n",
       "  <tbody>\n",
       "    <tr>\n",
       "      <th>538</th>\n",
       "      <td>Could someone edit the article to explain ...</td>\n",
       "      <td>1.0</td>\n",
       "      <td>0.0</td>\n",
       "      <td>0</td>\n",
       "    </tr>\n",
       "  </tbody>\n",
       "</table>\n",
       "</div>"
      ],
      "text/plain": [
       "                                                    Text  ed_label_0  \\\n",
       "index                                                                  \n",
       "538        Could someone edit the article to explain ...         1.0   \n",
       "\n",
       "       ed_label_1  oh_label  \n",
       "index                        \n",
       "538           0.0         0  "
      ]
     },
     "execution_count": 7,
     "metadata": {},
     "output_type": "execute_result"
    }
   ],
   "source": [
    "# sample of a 'bullying text (0)'\n",
    "B.loc[B[\"oh_label\"]==0].sample()"
   ]
  },
  {
   "cell_type": "code",
   "execution_count": 8,
   "id": "f3aa7d0c",
   "metadata": {},
   "outputs": [
    {
     "data": {
      "text/plain": [
       "\"`This is such a fun entry.   Devotchka  I once had a coworker from Korea and not only couldn't she tell the difference between USA-English and British English, she had trouble telling the difference between different European languages.  (Kind of keeps things in perspective, eh?) -) :Not suprising. While I can easily tell the difference between French, German, Italian, Spanish, Dutch, etc., put me in a room with a Chinese, Japanese, Korean, Vietnamese and a Thai speaker and I probably couldn't tell the difference. (If I saw it written I'd probably have somewhat more luck though.)  SJK  Vietnamese has more syllable-final consonants than Japanese, I think you can tell them apart that way, maybe. Is this right? - Juuitchan  Someone suggested: ``Heath Robinson`` and ``Rube Goldberg`` as a vocabulary difference.  It's certainly an interesting parallel, but I don't think it really belongs here.  They were both artists with their own style, and both are known on both sides of the pond although their use as descriptive adjectives is split as suggested.  At any rate, they can't quite be considered translations, because as an adjective, ``Rube Goldberg`` is more specific, describing an overly complex mechanical device or a complex series of interdependent actions; Heath Robinson, in contrast, is more surrealistic or fantasy-oriented.  LDC  As an American, I would like to say that to me a bum is a homeless person as much as the butt, a flat is an apartment, and rubbish certainly is trash. Granted, I agree that a fag is not a cigarette, and underground is not a subway. I may do some actual research, and come back and fiddle with that list. - Eean.  :I think Americans certainly understand the use of ``bum`` for ``butt``, ``rubbish`` for ``trash``, and (to a lesser degree) ``flat`` for ``apartment``.  But we don't use those terms much.  Point to a container for discarded things, and an American will say ``that's a trash can``; a Brit will say ``that's a rubbish bin``.  Americans are more likely to use ``rubbish`` in the sense of ``bullshit``. LDC  I deleted the following pair: ``limited (Ltd)`` and ``incorporated``, since they actually mean different things. ``Incorporated`` means a corporation; ``limited`` means a limited liability corporation (you can also have unlimited liability corporations, and no liability corporations). British (and Australian also) Ltd is roughly equivalent to American LLC.  SJK  I would say 'torch' was much more common than 'pocket lamp' which sounds quite old-fashioned. 'Flashlight' would be more easily recognised than the latter.  Yes, I'd call it a ``torch``, and it would probably be labeled as a ``flashlight`` in its manufacturer's packaging. IMO, 'torch' is colloquial British English  The Anome  Oh, so ``flashlight`` is correct British usage? (My dictionary said [Am.] and the Oxford English Dictionary carried ``flashlight`` only in the meaning of photography.) Then I'll remove the entry again. AxelBoldt `\""
      ]
     },
     "execution_count": 8,
     "metadata": {},
     "output_type": "execute_result"
    }
   ],
   "source": [
    "B['Text'][3]"
   ]
  },
  {
   "cell_type": "markdown",
   "id": "f5a7207e",
   "metadata": {},
   "source": [
    "### Text Preprocessing"
   ]
  },
  {
   "cell_type": "code",
   "execution_count": 9,
   "id": "d0faa7f5",
   "metadata": {},
   "outputs": [],
   "source": [
    "### Text Preprocessing:\n",
    "# Cleaning and preprocessing the text data. This involves tasks like removing stop words, handling emojis, \n",
    "# and converting text to lowercase.\n",
    "# Tokenizing the text to convert it into a format suitable for machine learning algorithms."
   ]
  },
  {
   "cell_type": "code",
   "execution_count": 10,
   "id": "80d79c1f",
   "metadata": {},
   "outputs": [
    {
     "data": {
      "text/plain": [
       "Text          0\n",
       "ed_label_0    0\n",
       "ed_label_1    0\n",
       "oh_label      0\n",
       "dtype: int64"
      ]
     },
     "execution_count": 10,
     "metadata": {},
     "output_type": "execute_result"
    }
   ],
   "source": [
    "# checking null values\n",
    "B.isna().sum()"
   ]
  },
  {
   "cell_type": "code",
   "execution_count": 11,
   "id": "101d88e1",
   "metadata": {},
   "outputs": [
    {
     "data": {
      "text/plain": [
       "oh_label\n",
       "0    986\n",
       "1     14\n",
       "Name: count, dtype: int64"
      ]
     },
     "execution_count": 11,
     "metadata": {},
     "output_type": "execute_result"
    }
   ],
   "source": [
    "# distribution of bullying vs. no-bullying content\n",
    "B['oh_label'].value_counts()"
   ]
  },
  {
   "cell_type": "code",
   "execution_count": 12,
   "id": "b426bb6d",
   "metadata": {},
   "outputs": [],
   "source": [
    "# Preprocessing the text. Cenverting to lower_case, removing any special characters/symbols and removing extra spaces.\n",
    "\n",
    "def clean_text(text):\n",
    "    text = text.lower() # Convert to lowercase\n",
    "    text = re.sub(r'\\W', ' ', text) # Remove special characters and symbols\n",
    "    text = re.sub(r'\\s+', ' ', text, flags=re.MULTILINE) # Remove extra spaces\n",
    "    words = [word for word in text.split() if word.isalnum() and word.isalpha()] # Split the text into words and keep only alphanumeric words\n",
    "    cleaned_text = ' '.join(words) # Join the words with a space\n",
    "    return cleaned_text"
   ]
  },
  {
   "cell_type": "code",
   "execution_count": 13,
   "id": "cb50a941",
   "metadata": {
    "scrolled": false
   },
   "outputs": [
    {
     "data": {
      "text/html": [
       "<div>\n",
       "<style scoped>\n",
       "    .dataframe tbody tr th:only-of-type {\n",
       "        vertical-align: middle;\n",
       "    }\n",
       "\n",
       "    .dataframe tbody tr th {\n",
       "        vertical-align: top;\n",
       "    }\n",
       "\n",
       "    .dataframe thead th {\n",
       "        text-align: right;\n",
       "    }\n",
       "</style>\n",
       "<table border=\"1\" class=\"dataframe\">\n",
       "  <thead>\n",
       "    <tr style=\"text-align: right;\">\n",
       "      <th></th>\n",
       "      <th>Cleaned_Text</th>\n",
       "    </tr>\n",
       "    <tr>\n",
       "      <th>index</th>\n",
       "      <th></th>\n",
       "    </tr>\n",
       "  </thead>\n",
       "  <tbody>\n",
       "    <tr>\n",
       "      <th>0</th>\n",
       "      <td>this one can make an analogy in mathematical t...</td>\n",
       "    </tr>\n",
       "    <tr>\n",
       "      <th>1</th>\n",
       "      <td>clarification for you and zundark s right i sh...</td>\n",
       "    </tr>\n",
       "    <tr>\n",
       "      <th>2</th>\n",
       "      <td>elected or electoral jhk</td>\n",
       "    </tr>\n",
       "    <tr>\n",
       "      <th>3</th>\n",
       "      <td>this is such a fun entry devotchka i once had ...</td>\n",
       "    </tr>\n",
       "    <tr>\n",
       "      <th>4</th>\n",
       "      <td>please relate the ozone hole to increases in c...</td>\n",
       "    </tr>\n",
       "    <tr>\n",
       "      <th>...</th>\n",
       "      <td>...</td>\n",
       "    </tr>\n",
       "    <tr>\n",
       "      <th>995</th>\n",
       "      <td>rhobite s lack of sincerity revealed rhobite g...</td>\n",
       "    </tr>\n",
       "    <tr>\n",
       "      <th>996</th>\n",
       "      <td>that s an interesting thought it is useful to ...</td>\n",
       "    </tr>\n",
       "    <tr>\n",
       "      <th>997</th>\n",
       "      <td>please obtain a wikipedia user id it would gre...</td>\n",
       "    </tr>\n",
       "    <tr>\n",
       "      <th>998</th>\n",
       "      <td>as someone coming to this without a prior ego ...</td>\n",
       "    </tr>\n",
       "    <tr>\n",
       "      <th>999</th>\n",
       "      <td>posts through oct hi nathanhawking and welcome...</td>\n",
       "    </tr>\n",
       "  </tbody>\n",
       "</table>\n",
       "<p>1000 rows × 1 columns</p>\n",
       "</div>"
      ],
      "text/plain": [
       "                                            Cleaned_Text\n",
       "index                                                   \n",
       "0      this one can make an analogy in mathematical t...\n",
       "1      clarification for you and zundark s right i sh...\n",
       "2                               elected or electoral jhk\n",
       "3      this is such a fun entry devotchka i once had ...\n",
       "4      please relate the ozone hole to increases in c...\n",
       "...                                                  ...\n",
       "995    rhobite s lack of sincerity revealed rhobite g...\n",
       "996    that s an interesting thought it is useful to ...\n",
       "997    please obtain a wikipedia user id it would gre...\n",
       "998    as someone coming to this without a prior ego ...\n",
       "999    posts through oct hi nathanhawking and welcome...\n",
       "\n",
       "[1000 rows x 1 columns]"
      ]
     },
     "execution_count": 13,
     "metadata": {},
     "output_type": "execute_result"
    }
   ],
   "source": [
    "# Apply the clean_text function to the \"Text\" column\n",
    "B['Cleaned_Text'] = B['Text'].apply(clean_text)\n",
    "B[['Cleaned_Text']]"
   ]
  },
  {
   "cell_type": "code",
   "execution_count": 14,
   "id": "37ee5457",
   "metadata": {},
   "outputs": [],
   "source": [
    "#nltk.download('punkt')\n",
    "#nltk.download('stopwords')\n",
    "#nltk.download('wordnet')\n",
    "#nltk.data.path.append('/root/nltk_data/corpora/')"
   ]
  },
  {
   "cell_type": "code",
   "execution_count": 15,
   "id": "35b5b89b",
   "metadata": {},
   "outputs": [],
   "source": [
    "# Tokenizing and removing stopwords\n",
    "\n",
    "def tokenizing_and_stopwords(text):\n",
    "    tokens = word_tokenize(text)\n",
    "    stop_words = set(stopwords.words('english'))\n",
    "    filtered_tokens = [word for word in tokens if word.lower() not in stop_words]\n",
    "    text = \" \".join(filtered_tokens)\n",
    "    return text"
   ]
  },
  {
   "cell_type": "code",
   "execution_count": 16,
   "id": "c76860f1",
   "metadata": {},
   "outputs": [
    {
     "data": {
      "text/html": [
       "<div>\n",
       "<style scoped>\n",
       "    .dataframe tbody tr th:only-of-type {\n",
       "        vertical-align: middle;\n",
       "    }\n",
       "\n",
       "    .dataframe tbody tr th {\n",
       "        vertical-align: top;\n",
       "    }\n",
       "\n",
       "    .dataframe thead th {\n",
       "        text-align: right;\n",
       "    }\n",
       "</style>\n",
       "<table border=\"1\" class=\"dataframe\">\n",
       "  <thead>\n",
       "    <tr style=\"text-align: right;\">\n",
       "      <th></th>\n",
       "      <th>ctns_Text</th>\n",
       "    </tr>\n",
       "    <tr>\n",
       "      <th>index</th>\n",
       "      <th></th>\n",
       "    </tr>\n",
       "  </thead>\n",
       "  <tbody>\n",
       "    <tr>\n",
       "      <th>0</th>\n",
       "      <td>one make analogy mathematical terms envisionin...</td>\n",
       "    </tr>\n",
       "    <tr>\n",
       "      <th>1</th>\n",
       "      <td>clarification zundark right checked wikipedia ...</td>\n",
       "    </tr>\n",
       "    <tr>\n",
       "      <th>2</th>\n",
       "      <td>elected electoral jhk</td>\n",
       "    </tr>\n",
       "    <tr>\n",
       "      <th>3</th>\n",
       "      <td>fun entry devotchka coworker korea tell differ...</td>\n",
       "    </tr>\n",
       "    <tr>\n",
       "      <th>4</th>\n",
       "      <td>please relate ozone hole increases cancer prov...</td>\n",
       "    </tr>\n",
       "    <tr>\n",
       "      <th>...</th>\n",
       "      <td>...</td>\n",
       "    </tr>\n",
       "    <tr>\n",
       "      <th>995</th>\n",
       "      <td>rhobite lack sincerity revealed rhobite gets c...</td>\n",
       "    </tr>\n",
       "    <tr>\n",
       "      <th>996</th>\n",
       "      <td>interesting thought useful note though post di...</td>\n",
       "    </tr>\n",
       "    <tr>\n",
       "      <th>997</th>\n",
       "      <td>please obtain wikipedia user id would greatly ...</td>\n",
       "    </tr>\n",
       "    <tr>\n",
       "      <th>998</th>\n",
       "      <td>someone coming without prior ego involvement s...</td>\n",
       "    </tr>\n",
       "    <tr>\n",
       "      <th>999</th>\n",
       "      <td>posts oct hi nathanhawking welcome wikipedia t...</td>\n",
       "    </tr>\n",
       "  </tbody>\n",
       "</table>\n",
       "<p>1000 rows × 1 columns</p>\n",
       "</div>"
      ],
      "text/plain": [
       "                                               ctns_Text\n",
       "index                                                   \n",
       "0      one make analogy mathematical terms envisionin...\n",
       "1      clarification zundark right checked wikipedia ...\n",
       "2                                  elected electoral jhk\n",
       "3      fun entry devotchka coworker korea tell differ...\n",
       "4      please relate ozone hole increases cancer prov...\n",
       "...                                                  ...\n",
       "995    rhobite lack sincerity revealed rhobite gets c...\n",
       "996    interesting thought useful note though post di...\n",
       "997    please obtain wikipedia user id would greatly ...\n",
       "998    someone coming without prior ego involvement s...\n",
       "999    posts oct hi nathanhawking welcome wikipedia t...\n",
       "\n",
       "[1000 rows x 1 columns]"
      ]
     },
     "execution_count": 16,
     "metadata": {},
     "output_type": "execute_result"
    }
   ],
   "source": [
    "# Apply the tokenizing_and_stopwords function to the \"Cleaned_Text\" column\n",
    "\n",
    "B['ctns_Text'] = B['Cleaned_Text'].apply(tokenizing_and_stopwords)  \n",
    "B[['ctns_Text']] #ctns_Text = cleaned, tokenized, no stopwords"
   ]
  },
  {
   "cell_type": "code",
   "execution_count": 17,
   "id": "46839502",
   "metadata": {},
   "outputs": [
    {
     "data": {
      "text/plain": [
       "'second thought instead provide new user setting allows user choose whether wikilinks displayed intended author literally linked trivial add code everyone would happy jan utc'"
      ]
     },
     "execution_count": 17,
     "metadata": {},
     "output_type": "execute_result"
    }
   ],
   "source": [
    "B['ctns_Text'][94]"
   ]
  },
  {
   "cell_type": "code",
   "execution_count": 18,
   "id": "1f1ff1be",
   "metadata": {},
   "outputs": [],
   "source": [
    "# lemmatization aims to reduce words to their base or root form.\n",
    "\n",
    "def lemmatization_and_stopwords(text):\n",
    "    if not text:\n",
    "        return \"\"\n",
    "    tokens = word_tokenize(text)\n",
    "    clean_text = []\n",
    "    lemmatizer = nltk.WordNetLemmatizer()\n",
    "    for token in tokens:\n",
    "        if token.lower() not in stopwords.words('english') and len(token) > 3:\n",
    "            token = lemmatizer.lemmatize(token)\n",
    "            clean_text.append(token)\n",
    "    result_text = \" \".join(clean_text)\n",
    "    return result_text"
   ]
  },
  {
   "cell_type": "code",
   "execution_count": 19,
   "id": "d334a90d",
   "metadata": {
    "scrolled": false
   },
   "outputs": [
    {
     "data": {
      "text/html": [
       "<div>\n",
       "<style scoped>\n",
       "    .dataframe tbody tr th:only-of-type {\n",
       "        vertical-align: middle;\n",
       "    }\n",
       "\n",
       "    .dataframe tbody tr th {\n",
       "        vertical-align: top;\n",
       "    }\n",
       "\n",
       "    .dataframe thead th {\n",
       "        text-align: right;\n",
       "    }\n",
       "</style>\n",
       "<table border=\"1\" class=\"dataframe\">\n",
       "  <thead>\n",
       "    <tr style=\"text-align: right;\">\n",
       "      <th></th>\n",
       "      <th>lemm_text</th>\n",
       "    </tr>\n",
       "    <tr>\n",
       "      <th>index</th>\n",
       "      <th></th>\n",
       "    </tr>\n",
       "  </thead>\n",
       "  <tbody>\n",
       "    <tr>\n",
       "      <th>0</th>\n",
       "      <td>make analogy mathematical term envisioning dis...</td>\n",
       "    </tr>\n",
       "    <tr>\n",
       "      <th>1</th>\n",
       "      <td>clarification zundark right checked wikipedia ...</td>\n",
       "    </tr>\n",
       "    <tr>\n",
       "      <th>2</th>\n",
       "      <td>elected electoral</td>\n",
       "    </tr>\n",
       "    <tr>\n",
       "      <th>3</th>\n",
       "      <td>entry devotchka coworker korea tell difference...</td>\n",
       "    </tr>\n",
       "    <tr>\n",
       "      <th>4</th>\n",
       "      <td>please relate ozone hole increase cancer provi...</td>\n",
       "    </tr>\n",
       "    <tr>\n",
       "      <th>...</th>\n",
       "      <td>...</td>\n",
       "    </tr>\n",
       "    <tr>\n",
       "      <th>995</th>\n",
       "      <td>rhobite lack sincerity revealed rhobite get cr...</td>\n",
       "    </tr>\n",
       "    <tr>\n",
       "      <th>996</th>\n",
       "      <td>interesting thought useful note though post di...</td>\n",
       "    </tr>\n",
       "    <tr>\n",
       "      <th>997</th>\n",
       "      <td>please obtain wikipedia user would greatly hel...</td>\n",
       "    </tr>\n",
       "    <tr>\n",
       "      <th>998</th>\n",
       "      <td>someone coming without prior involvement seems...</td>\n",
       "    </tr>\n",
       "    <tr>\n",
       "      <th>999</th>\n",
       "      <td>post nathanhawking welcome wikipedia thankyou ...</td>\n",
       "    </tr>\n",
       "  </tbody>\n",
       "</table>\n",
       "<p>1000 rows × 1 columns</p>\n",
       "</div>"
      ],
      "text/plain": [
       "                                               lemm_text\n",
       "index                                                   \n",
       "0      make analogy mathematical term envisioning dis...\n",
       "1      clarification zundark right checked wikipedia ...\n",
       "2                                      elected electoral\n",
       "3      entry devotchka coworker korea tell difference...\n",
       "4      please relate ozone hole increase cancer provi...\n",
       "...                                                  ...\n",
       "995    rhobite lack sincerity revealed rhobite get cr...\n",
       "996    interesting thought useful note though post di...\n",
       "997    please obtain wikipedia user would greatly hel...\n",
       "998    someone coming without prior involvement seems...\n",
       "999    post nathanhawking welcome wikipedia thankyou ...\n",
       "\n",
       "[1000 rows x 1 columns]"
      ]
     },
     "execution_count": 19,
     "metadata": {},
     "output_type": "execute_result"
    }
   ],
   "source": [
    "# Apply lemmatization function to the \"ctns_Text\" column\n",
    "B['lemm_text'] = B['ctns_Text'].apply(lemmatization_and_stopwords)\n",
    "B[['lemm_text']]"
   ]
  },
  {
   "cell_type": "code",
   "execution_count": 20,
   "id": "4e97c02a",
   "metadata": {
    "scrolled": true
   },
   "outputs": [
    {
     "data": {
      "text/plain": [
       "'know idea airy county tokerboy added county listed frederick county article'"
      ]
     },
     "execution_count": 20,
     "metadata": {},
     "output_type": "execute_result"
    }
   ],
   "source": [
    "B['lemm_text'][57]"
   ]
  },
  {
   "cell_type": "code",
   "execution_count": 21,
   "id": "36f1dc59",
   "metadata": {
    "scrolled": false
   },
   "outputs": [
    {
     "data": {
      "text/html": [
       "<div>\n",
       "<style scoped>\n",
       "    .dataframe tbody tr th:only-of-type {\n",
       "        vertical-align: middle;\n",
       "    }\n",
       "\n",
       "    .dataframe tbody tr th {\n",
       "        vertical-align: top;\n",
       "    }\n",
       "\n",
       "    .dataframe thead th {\n",
       "        text-align: right;\n",
       "    }\n",
       "</style>\n",
       "<table border=\"1\" class=\"dataframe\">\n",
       "  <thead>\n",
       "    <tr style=\"text-align: right;\">\n",
       "      <th></th>\n",
       "      <th>Text</th>\n",
       "      <th>ed_label_0</th>\n",
       "      <th>ed_label_1</th>\n",
       "      <th>oh_label</th>\n",
       "      <th>Cleaned_Text</th>\n",
       "      <th>ctns_Text</th>\n",
       "      <th>lemm_text</th>\n",
       "    </tr>\n",
       "    <tr>\n",
       "      <th>index</th>\n",
       "      <th></th>\n",
       "      <th></th>\n",
       "      <th></th>\n",
       "      <th></th>\n",
       "      <th></th>\n",
       "      <th></th>\n",
       "      <th></th>\n",
       "    </tr>\n",
       "  </thead>\n",
       "  <tbody>\n",
       "    <tr>\n",
       "      <th>0</th>\n",
       "      <td>This: :One can make an analogy in mathematical...</td>\n",
       "      <td>0.9</td>\n",
       "      <td>0.1</td>\n",
       "      <td>0</td>\n",
       "      <td>this one can make an analogy in mathematical t...</td>\n",
       "      <td>one make analogy mathematical terms envisionin...</td>\n",
       "      <td>make analogy mathematical term envisioning dis...</td>\n",
       "    </tr>\n",
       "    <tr>\n",
       "      <th>1</th>\n",
       "      <td>`  :Clarification for you  (and Zundark's righ...</td>\n",
       "      <td>1.0</td>\n",
       "      <td>0.0</td>\n",
       "      <td>0</td>\n",
       "      <td>clarification for you and zundark s right i sh...</td>\n",
       "      <td>clarification zundark right checked wikipedia ...</td>\n",
       "      <td>clarification zundark right checked wikipedia ...</td>\n",
       "    </tr>\n",
       "    <tr>\n",
       "      <th>2</th>\n",
       "      <td>Elected or Electoral? JHK</td>\n",
       "      <td>1.0</td>\n",
       "      <td>0.0</td>\n",
       "      <td>0</td>\n",
       "      <td>elected or electoral jhk</td>\n",
       "      <td>elected electoral jhk</td>\n",
       "      <td>elected electoral</td>\n",
       "    </tr>\n",
       "    <tr>\n",
       "      <th>3</th>\n",
       "      <td>`This is such a fun entry.   Devotchka  I once...</td>\n",
       "      <td>1.0</td>\n",
       "      <td>0.0</td>\n",
       "      <td>0</td>\n",
       "      <td>this is such a fun entry devotchka i once had ...</td>\n",
       "      <td>fun entry devotchka coworker korea tell differ...</td>\n",
       "      <td>entry devotchka coworker korea tell difference...</td>\n",
       "    </tr>\n",
       "    <tr>\n",
       "      <th>4</th>\n",
       "      <td>Please relate the ozone hole to increases in c...</td>\n",
       "      <td>0.8</td>\n",
       "      <td>0.2</td>\n",
       "      <td>0</td>\n",
       "      <td>please relate the ozone hole to increases in c...</td>\n",
       "      <td>please relate ozone hole increases cancer prov...</td>\n",
       "      <td>please relate ozone hole increase cancer provi...</td>\n",
       "    </tr>\n",
       "    <tr>\n",
       "      <th>...</th>\n",
       "      <td>...</td>\n",
       "      <td>...</td>\n",
       "      <td>...</td>\n",
       "      <td>...</td>\n",
       "      <td>...</td>\n",
       "      <td>...</td>\n",
       "      <td>...</td>\n",
       "    </tr>\n",
       "    <tr>\n",
       "      <th>995</th>\n",
       "      <td>==Rhobite's lack of sincerity revealed== Rho...</td>\n",
       "      <td>0.8</td>\n",
       "      <td>0.2</td>\n",
       "      <td>0</td>\n",
       "      <td>rhobite s lack of sincerity revealed rhobite g...</td>\n",
       "      <td>rhobite lack sincerity revealed rhobite gets c...</td>\n",
       "      <td>rhobite lack sincerity revealed rhobite get cr...</td>\n",
       "    </tr>\n",
       "    <tr>\n",
       "      <th>996</th>\n",
       "      <td>` *That's an interesting thought.  It is usefu...</td>\n",
       "      <td>1.0</td>\n",
       "      <td>0.0</td>\n",
       "      <td>0</td>\n",
       "      <td>that s an interesting thought it is useful to ...</td>\n",
       "      <td>interesting thought useful note though post di...</td>\n",
       "      <td>interesting thought useful note though post di...</td>\n",
       "    </tr>\n",
       "    <tr>\n",
       "      <th>997</th>\n",
       "      <td>==Please obtain a Wikipedia User ID==  It wo...</td>\n",
       "      <td>1.0</td>\n",
       "      <td>0.0</td>\n",
       "      <td>0</td>\n",
       "      <td>please obtain a wikipedia user id it would gre...</td>\n",
       "      <td>please obtain wikipedia user id would greatly ...</td>\n",
       "      <td>please obtain wikipedia user would greatly hel...</td>\n",
       "    </tr>\n",
       "    <tr>\n",
       "      <th>998</th>\n",
       "      <td>§ As someone coming to this without a prior...</td>\n",
       "      <td>0.6</td>\n",
       "      <td>0.4</td>\n",
       "      <td>0</td>\n",
       "      <td>as someone coming to this without a prior ego ...</td>\n",
       "      <td>someone coming without prior ego involvement s...</td>\n",
       "      <td>someone coming without prior involvement seems...</td>\n",
       "    </tr>\n",
       "    <tr>\n",
       "      <th>999</th>\n",
       "      <td>`Archive01 Posts through Oct. 30, 2004  Hi Nat...</td>\n",
       "      <td>1.0</td>\n",
       "      <td>0.0</td>\n",
       "      <td>0</td>\n",
       "      <td>posts through oct hi nathanhawking and welcome...</td>\n",
       "      <td>posts oct hi nathanhawking welcome wikipedia t...</td>\n",
       "      <td>post nathanhawking welcome wikipedia thankyou ...</td>\n",
       "    </tr>\n",
       "  </tbody>\n",
       "</table>\n",
       "<p>1000 rows × 7 columns</p>\n",
       "</div>"
      ],
      "text/plain": [
       "                                                    Text  ed_label_0  \\\n",
       "index                                                                  \n",
       "0      This: :One can make an analogy in mathematical...         0.9   \n",
       "1      `  :Clarification for you  (and Zundark's righ...         1.0   \n",
       "2                              Elected or Electoral? JHK         1.0   \n",
       "3      `This is such a fun entry.   Devotchka  I once...         1.0   \n",
       "4      Please relate the ozone hole to increases in c...         0.8   \n",
       "...                                                  ...         ...   \n",
       "995      ==Rhobite's lack of sincerity revealed== Rho...         0.8   \n",
       "996    ` *That's an interesting thought.  It is usefu...         1.0   \n",
       "997      ==Please obtain a Wikipedia User ID==  It wo...         1.0   \n",
       "998       § As someone coming to this without a prior...         0.6   \n",
       "999    `Archive01 Posts through Oct. 30, 2004  Hi Nat...         1.0   \n",
       "\n",
       "       ed_label_1  oh_label  \\\n",
       "index                         \n",
       "0             0.1         0   \n",
       "1             0.0         0   \n",
       "2             0.0         0   \n",
       "3             0.0         0   \n",
       "4             0.2         0   \n",
       "...           ...       ...   \n",
       "995           0.2         0   \n",
       "996           0.0         0   \n",
       "997           0.0         0   \n",
       "998           0.4         0   \n",
       "999           0.0         0   \n",
       "\n",
       "                                            Cleaned_Text  \\\n",
       "index                                                      \n",
       "0      this one can make an analogy in mathematical t...   \n",
       "1      clarification for you and zundark s right i sh...   \n",
       "2                               elected or electoral jhk   \n",
       "3      this is such a fun entry devotchka i once had ...   \n",
       "4      please relate the ozone hole to increases in c...   \n",
       "...                                                  ...   \n",
       "995    rhobite s lack of sincerity revealed rhobite g...   \n",
       "996    that s an interesting thought it is useful to ...   \n",
       "997    please obtain a wikipedia user id it would gre...   \n",
       "998    as someone coming to this without a prior ego ...   \n",
       "999    posts through oct hi nathanhawking and welcome...   \n",
       "\n",
       "                                               ctns_Text  \\\n",
       "index                                                      \n",
       "0      one make analogy mathematical terms envisionin...   \n",
       "1      clarification zundark right checked wikipedia ...   \n",
       "2                                  elected electoral jhk   \n",
       "3      fun entry devotchka coworker korea tell differ...   \n",
       "4      please relate ozone hole increases cancer prov...   \n",
       "...                                                  ...   \n",
       "995    rhobite lack sincerity revealed rhobite gets c...   \n",
       "996    interesting thought useful note though post di...   \n",
       "997    please obtain wikipedia user id would greatly ...   \n",
       "998    someone coming without prior ego involvement s...   \n",
       "999    posts oct hi nathanhawking welcome wikipedia t...   \n",
       "\n",
       "                                               lemm_text  \n",
       "index                                                     \n",
       "0      make analogy mathematical term envisioning dis...  \n",
       "1      clarification zundark right checked wikipedia ...  \n",
       "2                                      elected electoral  \n",
       "3      entry devotchka coworker korea tell difference...  \n",
       "4      please relate ozone hole increase cancer provi...  \n",
       "...                                                  ...  \n",
       "995    rhobite lack sincerity revealed rhobite get cr...  \n",
       "996    interesting thought useful note though post di...  \n",
       "997    please obtain wikipedia user would greatly hel...  \n",
       "998    someone coming without prior involvement seems...  \n",
       "999    post nathanhawking welcome wikipedia thankyou ...  \n",
       "\n",
       "[1000 rows x 7 columns]"
      ]
     },
     "execution_count": 21,
     "metadata": {},
     "output_type": "execute_result"
    }
   ],
   "source": [
    "# To show all the 'processed text' columns\n",
    "B"
   ]
  },
  {
   "cell_type": "code",
   "execution_count": 22,
   "id": "062c04f4",
   "metadata": {},
   "outputs": [],
   "source": [
    "B['text_len'] = B['lemm_text'].apply(lambda text: len(text.split()))"
   ]
  },
  {
   "cell_type": "code",
   "execution_count": 23,
   "id": "8504f7a8",
   "metadata": {},
   "outputs": [
    {
     "data": {
      "image/png": "[encoded data removed]",
      "text/plain": [
       "<Figure size 1000x500 with 1 Axes>"
      ]
     },
     "metadata": {},
     "output_type": "display_data"
    }
   ],
   "source": [
    "plt.figure(figsize=(10,5))\n",
    "ax = sns.countplot(x='text_len', data=B[B['text_len']<10], palette='mako')\n",
    "plt.title('Coments with less than 10 words', fontsize=12)\n",
    "plt.yticks([])\n",
    "ax.bar_label(ax.containers[0])\n",
    "plt.ylabel('count')\n",
    "plt.xlabel('')\n",
    "plt.show()"
   ]
  },
  {
   "cell_type": "code",
   "execution_count": 24,
   "id": "8ceb66a6",
   "metadata": {},
   "outputs": [
    {
     "data": {
      "image/png": "[encoded data removed]",
      "text/plain": [
       "<Figure size 1600x500 with 1 Axes>"
      ]
     },
     "metadata": {},
     "output_type": "display_data"
    }
   ],
   "source": [
    "plt.figure(figsize=(16,5))\n",
    "ax = sns.countplot(x='text_len', data=B[(B['text_len']<=100) & (B['text_len']>50)], palette='mako')\n",
    "plt.title('Coments with high number of words (50-100)', fontsize=12)\n",
    "plt.yticks([])\n",
    "ax.bar_label(ax.containers[0])\n",
    "plt.ylabel('count')\n",
    "plt.xlabel('')\n",
    "plt.show()"
   ]
  },
  {
   "cell_type": "code",
   "execution_count": 25,
   "id": "8d8c50c4",
   "metadata": {
    "scrolled": false
   },
   "outputs": [
    {
     "data": {
      "text/html": [
       "<div>\n",
       "<style scoped>\n",
       "    .dataframe tbody tr th:only-of-type {\n",
       "        vertical-align: middle;\n",
       "    }\n",
       "\n",
       "    .dataframe tbody tr th {\n",
       "        vertical-align: top;\n",
       "    }\n",
       "\n",
       "    .dataframe thead th {\n",
       "        text-align: right;\n",
       "    }\n",
       "</style>\n",
       "<table border=\"1\" class=\"dataframe\">\n",
       "  <thead>\n",
       "    <tr style=\"text-align: right;\">\n",
       "      <th></th>\n",
       "      <th>Text</th>\n",
       "      <th>ed_label_0</th>\n",
       "      <th>ed_label_1</th>\n",
       "      <th>oh_label</th>\n",
       "      <th>Cleaned_Text</th>\n",
       "      <th>ctns_Text</th>\n",
       "      <th>lemm_text</th>\n",
       "      <th>text_len</th>\n",
       "    </tr>\n",
       "    <tr>\n",
       "      <th>index</th>\n",
       "      <th></th>\n",
       "      <th></th>\n",
       "      <th></th>\n",
       "      <th></th>\n",
       "      <th></th>\n",
       "      <th></th>\n",
       "      <th></th>\n",
       "      <th></th>\n",
       "    </tr>\n",
       "  </thead>\n",
       "  <tbody>\n",
       "    <tr>\n",
       "      <th>863</th>\n",
       "      <td>`  ==66.185.85.80's rant==  Presently, we are ...</td>\n",
       "      <td>1.0</td>\n",
       "      <td>0.0</td>\n",
       "      <td>0</td>\n",
       "      <td>s rant presently we are witnessing an open war...</td>\n",
       "      <td>rant presently witnessing open war croatian di...</td>\n",
       "      <td>rant presently witnessing open croatian dinari...</td>\n",
       "      <td>431</td>\n",
       "    </tr>\n",
       "    <tr>\n",
       "      <th>527</th>\n",
       "      <td>`  (Ivo Banac)...A bit of nonteleological hist...</td>\n",
       "      <td>1.0</td>\n",
       "      <td>0.0</td>\n",
       "      <td>0</td>\n",
       "      <td>ivo banac a bit of nonteleological history one...</td>\n",
       "      <td>ivo banac bit nonteleological history one grea...</td>\n",
       "      <td>banac nonteleological history great problem un...</td>\n",
       "      <td>401</td>\n",
       "    </tr>\n",
       "    <tr>\n",
       "      <th>181</th>\n",
       "      <td>Hi Eric, no. You are not in any way one of ...</td>\n",
       "      <td>1.0</td>\n",
       "      <td>0.0</td>\n",
       "      <td>0</td>\n",
       "      <td>hi eric no you are not in any way one of the p...</td>\n",
       "      <td>hi eric way one people talking got caught cros...</td>\n",
       "      <td>eric people talking caught crossfire made thin...</td>\n",
       "      <td>394</td>\n",
       "    </tr>\n",
       "    <tr>\n",
       "      <th>713</th>\n",
       "      <td>`  == More discussion of changes ==  Here's a ...</td>\n",
       "      <td>1.0</td>\n",
       "      <td>0.0</td>\n",
       "      <td>0</td>\n",
       "      <td>more discussion of changes here s a few excerp...</td>\n",
       "      <td>discussion changes excerpts article like visit...</td>\n",
       "      <td>discussion change excerpt article like visit s...</td>\n",
       "      <td>382</td>\n",
       "    </tr>\n",
       "    <tr>\n",
       "      <th>20</th>\n",
       "      <td>`  ===Announcement=== I have compared Helga's ...</td>\n",
       "      <td>1.0</td>\n",
       "      <td>0.0</td>\n",
       "      <td>0</td>\n",
       "      <td>announcement i have compared helga s original ...</td>\n",
       "      <td>announcement compared helga original version h...</td>\n",
       "      <td>announcement compared helga original version h...</td>\n",
       "      <td>369</td>\n",
       "    </tr>\n",
       "    <tr>\n",
       "      <th>...</th>\n",
       "      <td>...</td>\n",
       "      <td>...</td>\n",
       "      <td>...</td>\n",
       "      <td>...</td>\n",
       "      <td>...</td>\n",
       "      <td>...</td>\n",
       "      <td>...</td>\n",
       "      <td>...</td>\n",
       "    </tr>\n",
       "    <tr>\n",
       "      <th>632</th>\n",
       "      <td>:So far so good 8^) -</td>\n",
       "      <td>1.0</td>\n",
       "      <td>0.0</td>\n",
       "      <td>0</td>\n",
       "      <td>so far so good</td>\n",
       "      <td>far good</td>\n",
       "      <td>good</td>\n",
       "      <td>1</td>\n",
       "    </tr>\n",
       "    <tr>\n",
       "      <th>309</th>\n",
       "      <td>HA AH AHA HAHAHAHHAHAHAHHAHAH</td>\n",
       "      <td>1.0</td>\n",
       "      <td>0.0</td>\n",
       "      <td>0</td>\n",
       "      <td>ha ah aha hahahahhahahahhahah</td>\n",
       "      <td>ha ah aha hahahahhahahahhahah</td>\n",
       "      <td>hahahahhahahahhahah</td>\n",
       "      <td>1</td>\n",
       "    </tr>\n",
       "    <tr>\n",
       "      <th>657</th>\n",
       "      <td>Aha - found it .  -</td>\n",
       "      <td>1.0</td>\n",
       "      <td>0.0</td>\n",
       "      <td>0</td>\n",
       "      <td>aha found it</td>\n",
       "      <td>aha found</td>\n",
       "      <td>found</td>\n",
       "      <td>1</td>\n",
       "    </tr>\n",
       "    <tr>\n",
       "      <th>236</th>\n",
       "      <td>-  See .</td>\n",
       "      <td>1.0</td>\n",
       "      <td>0.0</td>\n",
       "      <td>0</td>\n",
       "      <td>see</td>\n",
       "      <td>see</td>\n",
       "      <td></td>\n",
       "      <td>0</td>\n",
       "    </tr>\n",
       "    <tr>\n",
       "      <th>162</th>\n",
       "      <td>16:13 1 Jun 2003 (UTC)</td>\n",
       "      <td>1.0</td>\n",
       "      <td>0.0</td>\n",
       "      <td>0</td>\n",
       "      <td>jun utc</td>\n",
       "      <td>jun utc</td>\n",
       "      <td></td>\n",
       "      <td>0</td>\n",
       "    </tr>\n",
       "  </tbody>\n",
       "</table>\n",
       "<p>1000 rows × 8 columns</p>\n",
       "</div>"
      ],
      "text/plain": [
       "                                                    Text  ed_label_0  \\\n",
       "index                                                                  \n",
       "863    `  ==66.185.85.80's rant==  Presently, we are ...         1.0   \n",
       "527    `  (Ivo Banac)...A bit of nonteleological hist...         1.0   \n",
       "181       Hi Eric, no. You are not in any way one of ...         1.0   \n",
       "713    `  == More discussion of changes ==  Here's a ...         1.0   \n",
       "20     `  ===Announcement=== I have compared Helga's ...         1.0   \n",
       "...                                                  ...         ...   \n",
       "632                               :So far so good 8^) -          1.0   \n",
       "309                        HA AH AHA HAHAHAHHAHAHAHHAHAH         1.0   \n",
       "657                                Aha - found it .  -           1.0   \n",
       "236                                          -  See .            1.0   \n",
       "162                               16:13 1 Jun 2003 (UTC)         1.0   \n",
       "\n",
       "       ed_label_1  oh_label  \\\n",
       "index                         \n",
       "863           0.0         0   \n",
       "527           0.0         0   \n",
       "181           0.0         0   \n",
       "713           0.0         0   \n",
       "20            0.0         0   \n",
       "...           ...       ...   \n",
       "632           0.0         0   \n",
       "309           0.0         0   \n",
       "657           0.0         0   \n",
       "236           0.0         0   \n",
       "162           0.0         0   \n",
       "\n",
       "                                            Cleaned_Text  \\\n",
       "index                                                      \n",
       "863    s rant presently we are witnessing an open war...   \n",
       "527    ivo banac a bit of nonteleological history one...   \n",
       "181    hi eric no you are not in any way one of the p...   \n",
       "713    more discussion of changes here s a few excerp...   \n",
       "20     announcement i have compared helga s original ...   \n",
       "...                                                  ...   \n",
       "632                                       so far so good   \n",
       "309                        ha ah aha hahahahhahahahhahah   \n",
       "657                                         aha found it   \n",
       "236                                                  see   \n",
       "162                                              jun utc   \n",
       "\n",
       "                                               ctns_Text  \\\n",
       "index                                                      \n",
       "863    rant presently witnessing open war croatian di...   \n",
       "527    ivo banac bit nonteleological history one grea...   \n",
       "181    hi eric way one people talking got caught cros...   \n",
       "713    discussion changes excerpts article like visit...   \n",
       "20     announcement compared helga original version h...   \n",
       "...                                                  ...   \n",
       "632                                             far good   \n",
       "309                        ha ah aha hahahahhahahahhahah   \n",
       "657                                            aha found   \n",
       "236                                                  see   \n",
       "162                                              jun utc   \n",
       "\n",
       "                                               lemm_text  text_len  \n",
       "index                                                               \n",
       "863    rant presently witnessing open croatian dinari...       431  \n",
       "527    banac nonteleological history great problem un...       401  \n",
       "181    eric people talking caught crossfire made thin...       394  \n",
       "713    discussion change excerpt article like visit s...       382  \n",
       "20     announcement compared helga original version h...       369  \n",
       "...                                                  ...       ...  \n",
       "632                                                 good         1  \n",
       "309                                  hahahahhahahahhahah         1  \n",
       "657                                                found         1  \n",
       "236                                                              0  \n",
       "162                                                              0  \n",
       "\n",
       "[1000 rows x 8 columns]"
      ]
     },
     "execution_count": 25,
     "metadata": {},
     "output_type": "execute_result"
    }
   ],
   "source": [
    "B.sort_values(by=[\"text_len\"], ascending=False)"
   ]
  },
  {
   "cell_type": "code",
   "execution_count": 26,
   "id": "3a48ecab",
   "metadata": {},
   "outputs": [
    {
     "data": {
      "text/plain": [
       "36080"
      ]
     },
     "execution_count": 26,
     "metadata": {},
     "output_type": "execute_result"
    }
   ],
   "source": [
    "B['text_len'].sum()"
   ]
  },
  {
   "cell_type": "code",
   "execution_count": 27,
   "id": "aa2a84cc",
   "metadata": {
    "scrolled": false
   },
   "outputs": [
    {
     "data": {
      "image/png": "[encoded data removed]",
      "text/plain": [
       "<Figure size 1000x600 with 1 Axes>"
      ]
     },
     "metadata": {},
     "output_type": "display_data"
    }
   ],
   "source": [
    "# top 10 words \n",
    "vectorizer = CountVectorizer()\n",
    "word_matrix = vectorizer.fit_transform(B['lemm_text'])\n",
    "words = vectorizer.get_feature_names_out()\n",
    "word_frequencies = word_matrix.sum(axis=0)\n",
    "\n",
    "word_freq_df = pd.DataFrame({'word': words, 'frequency': word_frequencies.tolist()[0]})\n",
    "word_freq_df = word_freq_df.sort_values(by='frequency', ascending=False)\n",
    "\n",
    "top_words_count = 50  \n",
    "top_words = word_freq_df.head(top_words_count)\n",
    "\n",
    "# Plot the top words\n",
    "plt.figure(figsize=(10, 6))\n",
    "plt.bar(top_words['word'], top_words['frequency'])\n",
    "plt.xlabel('Words')\n",
    "plt.ylabel('Frequency')\n",
    "plt.title(f'Top {top_words_count} Words in lemm_text')\n",
    "plt.xticks(rotation=90)\n",
    "plt.show()"
   ]
  },
  {
   "cell_type": "markdown",
   "id": "33537dbc",
   "metadata": {},
   "source": [
    "### Splitting the Dataset - X, y"
   ]
  },
  {
   "cell_type": "code",
   "execution_count": 28,
   "id": "66f8f76f",
   "metadata": {},
   "outputs": [
    {
     "name": "stdout",
     "output_type": "stream",
     "text": [
      "Training set length: 800 800\n",
      "Testing set length: 200 200\n"
     ]
    }
   ],
   "source": [
    "X = B['lemm_text']\n",
    "y = B[['oh_label']] \n",
    "\n",
    "X_train, X_test, y_train, y_test = train_test_split(X, y, test_size=0.2, random_state=42)\n",
    "\n",
    "# Display the lengths of the resulting sets\n",
    "print(\"Training set length:\", len(X_train), len(y_train))\n",
    "print(\"Testing set length:\", len(X_test), len(y_test))"
   ]
  },
  {
   "cell_type": "markdown",
   "id": "04e3b475",
   "metadata": {},
   "source": [
    "### Feature Extraction"
   ]
  },
  {
   "cell_type": "code",
   "execution_count": 29,
   "id": "4750676d",
   "metadata": {},
   "outputs": [],
   "source": [
    "### Feature Extraction: Extracting relevant features from the text data. \n",
    "# Using word embeddingsb (Word2Vec, GloVe) to capture semantic relationships between words"
   ]
  },
  {
   "cell_type": "code",
   "execution_count": 30,
   "id": "a445e04f",
   "metadata": {},
   "outputs": [],
   "source": [
    "sentences = B['lemm_text']\n",
    "model = Word2Vec(sentences, vector_size=1000, window=5, min_count=1, workers=4)\n",
    "model.save(\"word2vec.model\")"
   ]
  },
  {
   "cell_type": "code",
   "execution_count": 31,
   "id": "b1b21410",
   "metadata": {},
   "outputs": [
    {
     "name": "stdout",
     "output_type": "stream",
     "text": [
      "Training set shape: (800, 500) (800, 1)\n",
      "Testing set shape: (200, 500) (200, 1)\n"
     ]
    }
   ],
   "source": [
    "X_train.fillna(\"\", inplace=True)\n",
    "X_test.fillna(\"\", inplace=True)\n",
    "\n",
    "# Tokenize the text\n",
    "tokenizer = Tokenizer()\n",
    "tokenizer.fit_on_texts(X_train)\n",
    "\n",
    "# Convert text to sequences\n",
    "X_train_sequences = tokenizer.texts_to_sequences(X_train)\n",
    "X_test_sequences = tokenizer.texts_to_sequences(X_test)\n",
    "\n",
    "# Pad sequences to have a consistent length\n",
    "max_sequence_length = 500  # You can adjust this based on your data\n",
    "X_train_padded = pad_sequences(X_train_sequences, maxlen=max_sequence_length)\n",
    "X_test_padded = pad_sequences(X_test_sequences, maxlen=max_sequence_length)\n",
    "\n",
    "print(\"Training set shape:\", X_train_padded.shape, y_train.shape)\n",
    "print(\"Testing set shape:\", X_test_padded.shape, y_test.shape)\n",
    "\n",
    "# Load pre-trained Word2Vec model\n",
    "word2vec_model = Word2Vec.load(\"word2vec.model\")\n",
    "\n",
    "# Create an embedding matrix using Word2Vec\n",
    "embedding_matrix = np.zeros((len(tokenizer.word_index) + 1, word2vec_model.vector_size))\n",
    "\n",
    "for word, i in tokenizer.word_index.items():\n",
    "    if word in word2vec_model.wv:\n",
    "        embedding_matrix[i] = word2vec_model.wv[word]\n",
    "\n",
    "# Save the tokenizer\n",
    "# joblib.dump(tokenizer, 'saved_tokenizer.joblib') "
   ]
  },
  {
   "cell_type": "markdown",
   "id": "662f2f98",
   "metadata": {},
   "source": [
    "### Handling Imbalanced Data"
   ]
  },
  {
   "cell_type": "code",
   "execution_count": 32,
   "id": "abef6c0e",
   "metadata": {
    "scrolled": true
   },
   "outputs": [
    {
     "name": "stdout",
     "output_type": "stream",
     "text": [
      "Original Training set shape: (800, 500) (800, 1)\n",
      "Resampled Training set shape: (1578, 500) (1578, 1)\n"
     ]
    }
   ],
   "source": [
    "### Handling Imbalanced Data for the training set (NOT DOING FOR THE WHOLE DATASET)\n",
    "\n",
    "smote = SMOTE(sampling_strategy='auto', random_state=42)\n",
    "X_sm, y_sm = smote.fit_resample(X_train_padded, y_train)\n",
    "\n",
    "print(\"Original Training set shape:\", X_train_padded.shape, y_train.shape)\n",
    "print(\"Resampled Training set shape:\", X_sm.shape, y_sm.shape)"
   ]
  },
  {
   "cell_type": "markdown",
   "id": "624bb1d9",
   "metadata": {},
   "source": [
    "#### MODEL - LOGISTIC REGRESSION"
   ]
  },
  {
   "cell_type": "code",
   "execution_count": 33,
   "id": "6cb415ba",
   "metadata": {},
   "outputs": [],
   "source": [
    "### Build the Model: Choose a suitable machine learning algorithm\n",
    "# i.e. random forrest, logistic regression, support vector machines, or deep learning) and build the model."
   ]
  },
  {
   "cell_type": "code",
   "execution_count": 34,
   "id": "6b0355eb",
   "metadata": {},
   "outputs": [
    {
     "name": "stderr",
     "output_type": "stream",
     "text": [
      "C:\\Users\\calum\\anaconda3\\Lib\\site-packages\\sklearn\\linear_model\\_logistic.py:458: ConvergenceWarning: lbfgs failed to converge (status=1):\n",
      "STOP: TOTAL NO. of ITERATIONS REACHED LIMIT.\n",
      "\n",
      "Increase the number of iterations (max_iter) or scale the data as shown in:\n",
      "    https://scikit-learn.org/stable/modules/preprocessing.html\n",
      "Please also refer to the documentation for alternative solver options:\n",
      "    https://scikit-learn.org/stable/modules/linear_model.html#logistic-regression\n",
      "  n_iter_i = _check_optimize_result(\n"
     ]
    },
    {
     "data": {
      "text/html": [
       "<div>\n",
       "<style scoped>\n",
       "    .dataframe tbody tr th:only-of-type {\n",
       "        vertical-align: middle;\n",
       "    }\n",
       "\n",
       "    .dataframe tbody tr th {\n",
       "        vertical-align: top;\n",
       "    }\n",
       "\n",
       "    .dataframe thead th {\n",
       "        text-align: right;\n",
       "    }\n",
       "</style>\n",
       "<table border=\"1\" class=\"dataframe\">\n",
       "  <thead>\n",
       "    <tr style=\"text-align: right;\">\n",
       "      <th></th>\n",
       "      <th>Error_metric</th>\n",
       "      <th>Train</th>\n",
       "      <th>Test</th>\n",
       "    </tr>\n",
       "  </thead>\n",
       "  <tbody>\n",
       "    <tr>\n",
       "      <th>0</th>\n",
       "      <td>Accuracy</td>\n",
       "      <td>0.926489</td>\n",
       "      <td>0.780000</td>\n",
       "    </tr>\n",
       "    <tr>\n",
       "      <th>1</th>\n",
       "      <td>Precision</td>\n",
       "      <td>0.930071</td>\n",
       "      <td>0.972801</td>\n",
       "    </tr>\n",
       "    <tr>\n",
       "      <th>2</th>\n",
       "      <td>Recall</td>\n",
       "      <td>0.926489</td>\n",
       "      <td>0.780000</td>\n",
       "    </tr>\n",
       "  </tbody>\n",
       "</table>\n",
       "</div>"
      ],
      "text/plain": [
       "  Error_metric     Train      Test\n",
       "0     Accuracy  0.926489  0.780000\n",
       "1    Precision  0.930071  0.972801\n",
       "2       Recall  0.926489  0.780000"
      ]
     },
     "metadata": {},
     "output_type": "display_data"
    }
   ],
   "source": [
    "# Create and train the Logistic Regression model\n",
    "\n",
    "log_model = LogisticRegression()\n",
    "log_model.fit(X_sm, y_sm)\n",
    "\n",
    "# Predictions on the resampled training set\n",
    "y_pred_train_log = log_model.predict(X_sm)\n",
    "\n",
    "# Predictions on the test set\n",
    "y_pred_test_log = log_model.predict(X_test_padded)  # Note: using X_test_padded for consistency with the original X_test\n",
    "\n",
    "performance_log = pd.DataFrame({'Error_metric': ['Accuracy', 'Precision', 'Recall'],\n",
    "                                'Train': [accuracy_score(y_sm, y_pred_train_log),\n",
    "                                          precision_score(y_sm, y_pred_train_log, average='weighted'),  # Use 'weighted' for multi-label\n",
    "                                          recall_score(y_sm, y_pred_train_log, average='weighted')],\n",
    "                                'Test': [accuracy_score(y_test, y_pred_test_log),\n",
    "                                         precision_score(y_test, y_pred_test_log, average='weighted'),\n",
    "                                         recall_score(y_test, y_pred_test_log, average='weighted')]})\n",
    "\n",
    "display(performance_log)"
   ]
  },
  {
   "cell_type": "markdown",
   "id": "f4577030",
   "metadata": {},
   "source": [
    "#### MODEL - RANDOM FOREST"
   ]
  },
  {
   "cell_type": "code",
   "execution_count": 35,
   "id": "74a8e7a1",
   "metadata": {},
   "outputs": [
    {
     "data": {
      "text/html": [
       "<div>\n",
       "<style scoped>\n",
       "    .dataframe tbody tr th:only-of-type {\n",
       "        vertical-align: middle;\n",
       "    }\n",
       "\n",
       "    .dataframe tbody tr th {\n",
       "        vertical-align: top;\n",
       "    }\n",
       "\n",
       "    .dataframe thead th {\n",
       "        text-align: right;\n",
       "    }\n",
       "</style>\n",
       "<table border=\"1\" class=\"dataframe\">\n",
       "  <thead>\n",
       "    <tr style=\"text-align: right;\">\n",
       "      <th></th>\n",
       "      <th>Error_metric</th>\n",
       "      <th>Train</th>\n",
       "      <th>Test</th>\n",
       "    </tr>\n",
       "  </thead>\n",
       "  <tbody>\n",
       "    <tr>\n",
       "      <th>0</th>\n",
       "      <td>Accuracy</td>\n",
       "      <td>0.960076</td>\n",
       "      <td>0.890000</td>\n",
       "    </tr>\n",
       "    <tr>\n",
       "      <th>1</th>\n",
       "      <td>Precision</td>\n",
       "      <td>0.962843</td>\n",
       "      <td>0.968674</td>\n",
       "    </tr>\n",
       "    <tr>\n",
       "      <th>2</th>\n",
       "      <td>Recall</td>\n",
       "      <td>0.960076</td>\n",
       "      <td>0.890000</td>\n",
       "    </tr>\n",
       "  </tbody>\n",
       "</table>\n",
       "</div>"
      ],
      "text/plain": [
       "  Error_metric     Train      Test\n",
       "0     Accuracy  0.960076  0.890000\n",
       "1    Precision  0.962843  0.968674\n",
       "2       Recall  0.960076  0.890000"
      ]
     },
     "metadata": {},
     "output_type": "display_data"
    }
   ],
   "source": [
    "rfc_ops = {\n",
    "    \"max_depth\": 6,\n",
    "    \"min_samples_leaf\": 20, ## by default 1 . This is the minimun number of data points per leaf\n",
    "    \"n_estimators\": 100, ## number os trees in the forest\n",
    "    \"bootstrap\": True, # default is true\n",
    "    \"oob_score\": True, # out of bag can be retrieved\n",
    "    \"random_state\": 42\n",
    "}\n",
    "\n",
    "clf = RandomForestClassifier(**rfc_ops)\n",
    "clf.fit(X_sm, y_sm)\n",
    "\n",
    "# Predictions on the resampled training set\n",
    "y_pred_train_rfc = clf.predict(X_sm)\n",
    "\n",
    "# Predictions on the test set\n",
    "y_pred_test_rfc = clf.predict(X_test_padded)\n",
    "\n",
    "performance_rfc = pd.DataFrame({'Error_metric': ['Accuracy', 'Precision', 'Recall'],\n",
    "                                'Train': [accuracy_score(y_sm, y_pred_train_rfc),\n",
    "                                          precision_score(y_sm, y_pred_train_rfc, average='weighted'),\n",
    "                                          recall_score(y_sm, y_pred_train_rfc, average='weighted')],\n",
    "                                'Test': [accuracy_score(y_test, y_pred_test_rfc),\n",
    "                                         precision_score(y_test, y_pred_test_rfc, average='weighted'),\n",
    "                                         recall_score(y_test, y_pred_test_rfc, average='weighted')]})\n",
    "\n",
    "display(performance_rfc)"
   ]
  },
  {
   "cell_type": "markdown",
   "id": "39308fa0",
   "metadata": {},
   "source": [
    "#### MODEL - NAIVE BAYES"
   ]
  },
  {
   "cell_type": "code",
   "execution_count": 36,
   "id": "0b1b145a",
   "metadata": {},
   "outputs": [
    {
     "data": {
      "text/html": [
       "<div>\n",
       "<style scoped>\n",
       "    .dataframe tbody tr th:only-of-type {\n",
       "        vertical-align: middle;\n",
       "    }\n",
       "\n",
       "    .dataframe tbody tr th {\n",
       "        vertical-align: top;\n",
       "    }\n",
       "\n",
       "    .dataframe thead th {\n",
       "        text-align: right;\n",
       "    }\n",
       "</style>\n",
       "<table border=\"1\" class=\"dataframe\">\n",
       "  <thead>\n",
       "    <tr style=\"text-align: right;\">\n",
       "      <th></th>\n",
       "      <th>Error_metric</th>\n",
       "      <th>Train</th>\n",
       "      <th>Test</th>\n",
       "    </tr>\n",
       "  </thead>\n",
       "  <tbody>\n",
       "    <tr>\n",
       "      <th>0</th>\n",
       "      <td>Accuracy</td>\n",
       "      <td>0.701521</td>\n",
       "      <td>0.32500</td>\n",
       "    </tr>\n",
       "    <tr>\n",
       "      <th>1</th>\n",
       "      <td>Precision</td>\n",
       "      <td>0.789527</td>\n",
       "      <td>0.96983</td>\n",
       "    </tr>\n",
       "    <tr>\n",
       "      <th>2</th>\n",
       "      <td>Recall</td>\n",
       "      <td>0.701521</td>\n",
       "      <td>0.32500</td>\n",
       "    </tr>\n",
       "  </tbody>\n",
       "</table>\n",
       "</div>"
      ],
      "text/plain": [
       "  Error_metric     Train     Test\n",
       "0     Accuracy  0.701521  0.32500\n",
       "1    Precision  0.789527  0.96983\n",
       "2       Recall  0.701521  0.32500"
      ]
     },
     "metadata": {},
     "output_type": "display_data"
    },
    {
     "name": "stdout",
     "output_type": "stream",
     "text": [
      "              precision    recall  f1-score   support\n",
      "\n",
      "           0       0.98      0.32      0.48       197\n",
      "           1       0.01      0.67      0.03         3\n",
      "\n",
      "    accuracy                           0.33       200\n",
      "   macro avg       0.50      0.49      0.26       200\n",
      "weighted avg       0.97      0.33      0.48       200\n",
      "\n"
     ]
    }
   ],
   "source": [
    "naive_bayes_model = MultinomialNB()\n",
    "naive_bayes_model.fit(X_sm, y_sm)\n",
    "\n",
    "# Predictions on the resampled training set\n",
    "y_pred_train = naive_bayes_model.predict(X_sm)\n",
    "\n",
    "# Predictions on the test set\n",
    "y_pred_test = naive_bayes_model.predict(X_test_padded)\n",
    "\n",
    "performance_naive_bayes = pd.DataFrame({'Error_metric': ['Accuracy', 'Precision', 'Recall'],\n",
    "                                         'Train': [accuracy_score(y_sm, y_pred_train),\n",
    "                                                   precision_score(y_sm, y_pred_train, average='weighted'),\n",
    "                                                   recall_score(y_sm, y_pred_train, average='weighted')],\n",
    "                                         'Test': [accuracy_score(y_test, y_pred_test),\n",
    "                                                  precision_score(y_test, y_pred_test, average='weighted'),\n",
    "                                                  recall_score(y_test, y_pred_test, average='weighted')]})\n",
    "\n",
    "\n",
    "display(performance_naive_bayes)\n",
    "\n",
    "print(classification_report(y_test, y_pred_test))"
   ]
  },
  {
   "cell_type": "markdown",
   "id": "123fdc86",
   "metadata": {},
   "source": [
    "#### TENSORFLOW"
   ]
  },
  {
   "cell_type": "code",
   "execution_count": 37,
   "id": "b36a6be2",
   "metadata": {},
   "outputs": [
    {
     "name": "stdout",
     "output_type": "stream",
     "text": [
      "Model: \"sequential\"\n",
      "_________________________________________________________________\n",
      " Layer (type)                Output Shape              Param #   \n",
      "=================================================================\n",
      " embedding (Embedding)       (None, 500, 1000)         6817000   \n",
      "                                                                 \n",
      " flatten (Flatten)           (None, 500000)            0         \n",
      "                                                                 \n",
      " dense (Dense)               (None, 1)                 500001    \n",
      "                                                                 \n",
      "=================================================================\n",
      "Total params: 7317001 (27.91 MB)\n",
      "Trainable params: 500001 (1.91 MB)\n",
      "Non-trainable params: 6817000 (26.00 MB)\n",
      "_________________________________________________________________\n"
     ]
    }
   ],
   "source": [
    "### This one!\n",
    "\n",
    "model = Sequential()\n",
    "model.add(Embedding(input_dim=len(tokenizer.word_index) + 1,\n",
    "                    output_dim=word2vec_model.vector_size,\n",
    "                    weights=[embedding_matrix],\n",
    "                    input_length=max_sequence_length,\n",
    "                    trainable=False))\n",
    "\n",
    "model.add(Flatten())\n",
    "\n",
    "\n",
    "model.add(Dense(units=1, activation='sigmoid'))  # Binary classification, 1 output unit, sigmoid activation\n",
    "\n",
    "model.compile(optimizer='adam', loss='binary_crossentropy', metrics=['accuracy'])\n",
    "model.summary()"
   ]
  },
  {
   "cell_type": "code",
   "execution_count": 38,
   "id": "0d220348",
   "metadata": {},
   "outputs": [],
   "source": [
    "# Create callback to stop training process after getting >90% accuracy\n",
    "class myCallback(tf.keras.callbacks.Callback):\n",
    "    def on_epoch_end(self, epoch, logs={}):\n",
    "        # Assuming you are logging 'recall' and 'val_recall' during training\n",
    "        train_recall = logs.get('recall', 0)\n",
    "        val_recall = logs.get('val_recall', 0)\n",
    "        if train_recall > 0.90 and val_recall > 0.90:\n",
    "            self.model.stop_training = True\n",
    "            print(\"\\nThe recall of training and validation data has reached > 90%\")"
   ]
  },
  {
   "cell_type": "code",
   "execution_count": 39,
   "id": "2315dee0",
   "metadata": {},
   "outputs": [
    {
     "name": "stdout",
     "output_type": "stream",
     "text": [
      "Epoch 1/10\n",
      "13/13 [==============================] - 1s 61ms/step - loss: 0.6904 - accuracy: 0.9862 - val_loss: 0.6869 - val_accuracy: 0.9850\n",
      "Epoch 2/10\n",
      "13/13 [==============================] - 1s 49ms/step - loss: 0.6841 - accuracy: 0.9862 - val_loss: 0.6806 - val_accuracy: 0.9850\n",
      "Epoch 3/10\n",
      "13/13 [==============================] - 1s 42ms/step - loss: 0.6779 - accuracy: 0.9862 - val_loss: 0.6745 - val_accuracy: 0.9850\n",
      "Epoch 4/10\n",
      "13/13 [==============================] - 1s 43ms/step - loss: 0.6717 - accuracy: 0.9862 - val_loss: 0.6684 - val_accuracy: 0.9850\n",
      "Epoch 5/10\n",
      "13/13 [==============================] - 1s 61ms/step - loss: 0.6656 - accuracy: 0.9862 - val_loss: 0.6623 - val_accuracy: 0.9850\n",
      "Epoch 6/10\n",
      "13/13 [==============================] - 1s 43ms/step - loss: 0.6596 - accuracy: 0.9862 - val_loss: 0.6563 - val_accuracy: 0.9850\n",
      "Epoch 7/10\n",
      "13/13 [==============================] - 1s 43ms/step - loss: 0.6536 - accuracy: 0.9862 - val_loss: 0.6504 - val_accuracy: 0.9850\n",
      "Epoch 8/10\n",
      "13/13 [==============================] - 1s 45ms/step - loss: 0.6477 - accuracy: 0.9862 - val_loss: 0.6445 - val_accuracy: 0.9850\n",
      "Epoch 9/10\n",
      "13/13 [==============================] - 1s 51ms/step - loss: 0.6418 - accuracy: 0.9862 - val_loss: 0.6387 - val_accuracy: 0.9850\n",
      "Epoch 10/10\n",
      "13/13 [==============================] - 1s 45ms/step - loss: 0.6360 - accuracy: 0.9862 - val_loss: 0.6330 - val_accuracy: 0.9850\n"
     ]
    },
    {
     "data": {
      "text/plain": [
       "<keras.src.callbacks.History at 0x269cee2e510>"
      ]
     },
     "execution_count": 39,
     "metadata": {},
     "output_type": "execute_result"
    }
   ],
   "source": [
    "# No one-hot encoding needed for binary classification\n",
    "callbacks = myCallback()\n",
    "\n",
    "model.fit(X_train_padded, \n",
    "          y_train, epochs=10, \n",
    "          batch_size=64, \n",
    "          validation_data=(X_test_padded, y_test))"
   ]
  },
  {
   "cell_type": "code",
   "execution_count": 40,
   "id": "53ae7952",
   "metadata": {},
   "outputs": [
    {
     "name": "stdout",
     "output_type": "stream",
     "text": [
      "7/7 [==============================] - 0s 14ms/step - loss: 0.6330 - accuracy: 0.9850\n",
      "Test Loss: 0.6329529285430908\n",
      "Test Accuracy: 0.9850000143051147\n"
     ]
    }
   ],
   "source": [
    "evaluation_result = model.evaluate(X_test_padded, y_test)\n",
    "\n",
    "# Print the evaluation result\n",
    "print(\"Test Loss:\", evaluation_result[0])\n",
    "print(\"Test Accuracy:\", evaluation_result[1])"
   ]
  },
  {
   "cell_type": "code",
   "execution_count": 41,
   "id": "46b2c4d5",
   "metadata": {},
   "outputs": [
    {
     "name": "stdout",
     "output_type": "stream",
     "text": [
      "25/25 [==============================] - 0s 13ms/step\n",
      "7/7 [==============================] - 0s 14ms/step\n"
     ]
    },
    {
     "data": {
      "text/html": [
       "<div>\n",
       "<style scoped>\n",
       "    .dataframe tbody tr th:only-of-type {\n",
       "        vertical-align: middle;\n",
       "    }\n",
       "\n",
       "    .dataframe tbody tr th {\n",
       "        vertical-align: top;\n",
       "    }\n",
       "\n",
       "    .dataframe thead th {\n",
       "        text-align: right;\n",
       "    }\n",
       "</style>\n",
       "<table border=\"1\" class=\"dataframe\">\n",
       "  <thead>\n",
       "    <tr style=\"text-align: right;\">\n",
       "      <th></th>\n",
       "      <th>Error_metric</th>\n",
       "      <th>Train</th>\n",
       "      <th>Test</th>\n",
       "    </tr>\n",
       "  </thead>\n",
       "  <tbody>\n",
       "    <tr>\n",
       "      <th>0</th>\n",
       "      <td>Accuracy</td>\n",
       "      <td>0.986250</td>\n",
       "      <td>0.985000</td>\n",
       "    </tr>\n",
       "    <tr>\n",
       "      <th>1</th>\n",
       "      <td>Precision</td>\n",
       "      <td>0.986439</td>\n",
       "      <td>0.985225</td>\n",
       "    </tr>\n",
       "    <tr>\n",
       "      <th>2</th>\n",
       "      <td>Recall</td>\n",
       "      <td>0.986250</td>\n",
       "      <td>0.985000</td>\n",
       "    </tr>\n",
       "  </tbody>\n",
       "</table>\n",
       "</div>"
      ],
      "text/plain": [
       "  Error_metric     Train      Test\n",
       "0     Accuracy  0.986250  0.985000\n",
       "1    Precision  0.986439  0.985225\n",
       "2       Recall  0.986250  0.985000"
      ]
     },
     "metadata": {},
     "output_type": "display_data"
    }
   ],
   "source": [
    "y_pred_train_prob = model.predict(X_train_padded)\n",
    "y_pred_test_prob = model.predict(X_test_padded)\n",
    "\n",
    "# Convert probabilities to class labels (using a threshold, e.g., 0.5)\n",
    "y_pred_train = (y_pred_train_prob > 0.5).astype(int).reshape(-1)\n",
    "y_pred_test = (y_pred_test_prob > 0.5).astype(int).reshape(-1)\n",
    "\n",
    "# Calculate performance metrics\n",
    "performance_tf = pd.DataFrame({'Error_metric': ['Accuracy', 'Precision', 'Recall'],\n",
    "                             'Train': [accuracy_score(y_train, y_pred_train),\n",
    "                                       precision_score(y_train, y_pred_train, average='weighted', zero_division=1),\n",
    "                                       recall_score(y_train, y_pred_train, average='weighted', zero_division=1)],\n",
    "                             'Test': [accuracy_score(y_test, y_pred_test),\n",
    "                                      precision_score(y_test, y_pred_test, average='weighted', zero_division=1),\n",
    "                                      recall_score(y_test, y_pred_test, average='weighted', zero_division=1)]})\n",
    "\n",
    "\n",
    "display(performance_tf)"
   ]
  },
  {
   "cell_type": "code",
   "execution_count": 42,
   "id": "a06eab14",
   "metadata": {},
   "outputs": [],
   "source": [
    "# Save the model in SavedModel format\n",
    "#model.save('tf2_model')"
   ]
  },
  {
   "cell_type": "markdown",
   "id": "86b3434e",
   "metadata": {},
   "source": [
    "#### Comparing models"
   ]
  },
  {
   "cell_type": "code",
   "execution_count": 43,
   "id": "cfffa7ba",
   "metadata": {
    "scrolled": false
   },
   "outputs": [
    {
     "name": "stdout",
     "output_type": "stream",
     "text": [
      "Combined Performance for All Models: \n",
      "\n",
      "LOGISTIC REGRESSION\n"
     ]
    },
    {
     "data": {
      "text/html": [
       "<div>\n",
       "<style scoped>\n",
       "    .dataframe tbody tr th:only-of-type {\n",
       "        vertical-align: middle;\n",
       "    }\n",
       "\n",
       "    .dataframe tbody tr th {\n",
       "        vertical-align: top;\n",
       "    }\n",
       "\n",
       "    .dataframe thead th {\n",
       "        text-align: right;\n",
       "    }\n",
       "</style>\n",
       "<table border=\"1\" class=\"dataframe\">\n",
       "  <thead>\n",
       "    <tr style=\"text-align: right;\">\n",
       "      <th></th>\n",
       "      <th>Error_metric</th>\n",
       "      <th>Train</th>\n",
       "      <th>Test</th>\n",
       "    </tr>\n",
       "  </thead>\n",
       "  <tbody>\n",
       "    <tr>\n",
       "      <th>0</th>\n",
       "      <td>Accuracy</td>\n",
       "      <td>0.926489</td>\n",
       "      <td>0.780000</td>\n",
       "    </tr>\n",
       "    <tr>\n",
       "      <th>1</th>\n",
       "      <td>Precision</td>\n",
       "      <td>0.930071</td>\n",
       "      <td>0.972801</td>\n",
       "    </tr>\n",
       "    <tr>\n",
       "      <th>2</th>\n",
       "      <td>Recall</td>\n",
       "      <td>0.926489</td>\n",
       "      <td>0.780000</td>\n",
       "    </tr>\n",
       "  </tbody>\n",
       "</table>\n",
       "</div>"
      ],
      "text/plain": [
       "  Error_metric     Train      Test\n",
       "0     Accuracy  0.926489  0.780000\n",
       "1    Precision  0.930071  0.972801\n",
       "2       Recall  0.926489  0.780000"
      ]
     },
     "metadata": {},
     "output_type": "display_data"
    },
    {
     "name": "stdout",
     "output_type": "stream",
     "text": [
      "\n",
      "RANDOM FOREST\n"
     ]
    },
    {
     "data": {
      "text/html": [
       "<div>\n",
       "<style scoped>\n",
       "    .dataframe tbody tr th:only-of-type {\n",
       "        vertical-align: middle;\n",
       "    }\n",
       "\n",
       "    .dataframe tbody tr th {\n",
       "        vertical-align: top;\n",
       "    }\n",
       "\n",
       "    .dataframe thead th {\n",
       "        text-align: right;\n",
       "    }\n",
       "</style>\n",
       "<table border=\"1\" class=\"dataframe\">\n",
       "  <thead>\n",
       "    <tr style=\"text-align: right;\">\n",
       "      <th></th>\n",
       "      <th>Error_metric</th>\n",
       "      <th>Train</th>\n",
       "      <th>Test</th>\n",
       "    </tr>\n",
       "  </thead>\n",
       "  <tbody>\n",
       "    <tr>\n",
       "      <th>0</th>\n",
       "      <td>Accuracy</td>\n",
       "      <td>0.960076</td>\n",
       "      <td>0.890000</td>\n",
       "    </tr>\n",
       "    <tr>\n",
       "      <th>1</th>\n",
       "      <td>Precision</td>\n",
       "      <td>0.962843</td>\n",
       "      <td>0.968674</td>\n",
       "    </tr>\n",
       "    <tr>\n",
       "      <th>2</th>\n",
       "      <td>Recall</td>\n",
       "      <td>0.960076</td>\n",
       "      <td>0.890000</td>\n",
       "    </tr>\n",
       "  </tbody>\n",
       "</table>\n",
       "</div>"
      ],
      "text/plain": [
       "  Error_metric     Train      Test\n",
       "0     Accuracy  0.960076  0.890000\n",
       "1    Precision  0.962843  0.968674\n",
       "2       Recall  0.960076  0.890000"
      ]
     },
     "metadata": {},
     "output_type": "display_data"
    },
    {
     "name": "stdout",
     "output_type": "stream",
     "text": [
      "\n",
      "NAIVE BAYES\n"
     ]
    },
    {
     "data": {
      "text/html": [
       "<div>\n",
       "<style scoped>\n",
       "    .dataframe tbody tr th:only-of-type {\n",
       "        vertical-align: middle;\n",
       "    }\n",
       "\n",
       "    .dataframe tbody tr th {\n",
       "        vertical-align: top;\n",
       "    }\n",
       "\n",
       "    .dataframe thead th {\n",
       "        text-align: right;\n",
       "    }\n",
       "</style>\n",
       "<table border=\"1\" class=\"dataframe\">\n",
       "  <thead>\n",
       "    <tr style=\"text-align: right;\">\n",
       "      <th></th>\n",
       "      <th>Error_metric</th>\n",
       "      <th>Train</th>\n",
       "      <th>Test</th>\n",
       "    </tr>\n",
       "  </thead>\n",
       "  <tbody>\n",
       "    <tr>\n",
       "      <th>0</th>\n",
       "      <td>Accuracy</td>\n",
       "      <td>0.701521</td>\n",
       "      <td>0.32500</td>\n",
       "    </tr>\n",
       "    <tr>\n",
       "      <th>1</th>\n",
       "      <td>Precision</td>\n",
       "      <td>0.789527</td>\n",
       "      <td>0.96983</td>\n",
       "    </tr>\n",
       "    <tr>\n",
       "      <th>2</th>\n",
       "      <td>Recall</td>\n",
       "      <td>0.701521</td>\n",
       "      <td>0.32500</td>\n",
       "    </tr>\n",
       "  </tbody>\n",
       "</table>\n",
       "</div>"
      ],
      "text/plain": [
       "  Error_metric     Train     Test\n",
       "0     Accuracy  0.701521  0.32500\n",
       "1    Precision  0.789527  0.96983\n",
       "2       Recall  0.701521  0.32500"
      ]
     },
     "metadata": {},
     "output_type": "display_data"
    },
    {
     "name": "stdout",
     "output_type": "stream",
     "text": [
      "\n",
      "TENSOR FLOW\n"
     ]
    },
    {
     "data": {
      "text/html": [
       "<div>\n",
       "<style scoped>\n",
       "    .dataframe tbody tr th:only-of-type {\n",
       "        vertical-align: middle;\n",
       "    }\n",
       "\n",
       "    .dataframe tbody tr th {\n",
       "        vertical-align: top;\n",
       "    }\n",
       "\n",
       "    .dataframe thead th {\n",
       "        text-align: right;\n",
       "    }\n",
       "</style>\n",
       "<table border=\"1\" class=\"dataframe\">\n",
       "  <thead>\n",
       "    <tr style=\"text-align: right;\">\n",
       "      <th></th>\n",
       "      <th>Error_metric</th>\n",
       "      <th>Train</th>\n",
       "      <th>Test</th>\n",
       "    </tr>\n",
       "  </thead>\n",
       "  <tbody>\n",
       "    <tr>\n",
       "      <th>0</th>\n",
       "      <td>Accuracy</td>\n",
       "      <td>0.986250</td>\n",
       "      <td>0.985000</td>\n",
       "    </tr>\n",
       "    <tr>\n",
       "      <th>1</th>\n",
       "      <td>Precision</td>\n",
       "      <td>0.986439</td>\n",
       "      <td>0.985225</td>\n",
       "    </tr>\n",
       "    <tr>\n",
       "      <th>2</th>\n",
       "      <td>Recall</td>\n",
       "      <td>0.986250</td>\n",
       "      <td>0.985000</td>\n",
       "    </tr>\n",
       "  </tbody>\n",
       "</table>\n",
       "</div>"
      ],
      "text/plain": [
       "  Error_metric     Train      Test\n",
       "0     Accuracy  0.986250  0.985000\n",
       "1    Precision  0.986439  0.985225\n",
       "2       Recall  0.986250  0.985000"
      ]
     },
     "metadata": {},
     "output_type": "display_data"
    }
   ],
   "source": [
    "# Comparing the models\n",
    "\n",
    "print(\"Combined Performance for All Models: \\n\")\n",
    "print(\"LOGISTIC REGRESSION\")\n",
    "display(performance_log)\n",
    "print(\"\\nRANDOM FOREST\")\n",
    "display(performance_rfc)\n",
    "print(\"\\nNAIVE BAYES\")\n",
    "display(performance_naive_bayes)\n",
    "print(\"\\nTENSOR FLOW\")\n",
    "display(performance_tf)"
   ]
  },
  {
   "cell_type": "code",
   "execution_count": 44,
   "id": "11c7e82b",
   "metadata": {},
   "outputs": [
    {
     "data": {
      "text/plain": [
       "'\\nLOGISTIC REGRESSION\\nError_metric\\tTrain\\tTest\\n0\\tAccuracy\\t0.926489\\t0.780000\\n1\\tPrecision\\t0.930071\\t0.972801\\n2\\tRecall\\t0.926489\\t0.780000\\n\\nRANDOM FOREST\\nError_metric\\tTrain\\tTest\\n0\\tAccuracy\\t0.960076\\t0.890000\\n1\\tPrecision\\t0.962843\\t0.968674\\n2\\tRecall\\t0.960076\\t0.890000\\n\\nNAIVE BAYES\\nError_metric\\tTrain\\tTest\\n0\\tAccuracy\\t0.701521\\t0.32500\\n1\\tPrecision\\t0.789527\\t0.96983\\n2\\tRecall\\t0.701521\\t0.32500\\n\\nTENSOR FLOW\\nError_metric\\tTrain\\tTest\\n0\\tAccuracy\\t0.998750\\t0.985000\\n1\\tPrecision\\t0.998752\\t0.970225\\n2\\tRecall\\t0.998750\\t0.985000\\n'"
      ]
     },
     "execution_count": 44,
     "metadata": {},
     "output_type": "execute_result"
    }
   ],
   "source": [
    "'''\n",
    "LOGISTIC REGRESSION\n",
    "Error_metric\tTrain\tTest\n",
    "0\tAccuracy\t0.926489\t0.780000\n",
    "1\tPrecision\t0.930071\t0.972801\n",
    "2\tRecall\t0.926489\t0.780000\n",
    "\n",
    "RANDOM FOREST\n",
    "Error_metric\tTrain\tTest\n",
    "0\tAccuracy\t0.960076\t0.890000\n",
    "1\tPrecision\t0.962843\t0.968674\n",
    "2\tRecall\t0.960076\t0.890000\n",
    "\n",
    "NAIVE BAYES\n",
    "Error_metric\tTrain\tTest\n",
    "0\tAccuracy\t0.701521\t0.32500\n",
    "1\tPrecision\t0.789527\t0.96983\n",
    "2\tRecall\t0.701521\t0.32500\n",
    "\n",
    "TENSOR FLOW\n",
    "Error_metric\tTrain\tTest\n",
    "0\tAccuracy\t0.998750\t0.985000\n",
    "1\tPrecision\t0.998752\t0.970225\n",
    "2\tRecall\t0.998750\t0.985000\n",
    "'''"
   ]
  }
 ],
 "metadata": {
  "kernelspec": {
   "display_name": "Python 3 (ipykernel)",
   "language": "python",
   "name": "python3"
  },
  "language_info": {
   "codemirror_mode": {
    "name": "ipython",
    "version": 3
   },
   "file_extension": ".py",
   "mimetype": "text/x-python",
   "name": "python",
   "nbconvert_exporter": "python",
   "pygments_lexer": "ipython3",
   "version": "3.11.5"
  }
 },
 "nbformat": 4,
 "nbformat_minor": 5
}
